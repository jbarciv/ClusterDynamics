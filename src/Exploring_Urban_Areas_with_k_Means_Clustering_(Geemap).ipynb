{
  "cells": [
    {
      "cell_type": "markdown",
      "metadata": {
        "id": "LF6fPLXfzYAv"
      },
      "source": [
        "\n",
        "# Exploring Urban Areas with k-Means Clustering (Geemap)\n",
        "Master's in Automation and Robotics - ETSII (UPM) \\\n",
        "*Subject:* Artificial Intelligence\\\n",
        "*Course:* 2023-24\\\n",
        "*Student Name (ID):*\n",
        "* Jorge Guijarro (23075)\n",
        "- Josep Mª Barberá (17048)\n",
        "\n",
        "*Date:* January, 14"
      ]
    },
    {
      "cell_type": "markdown",
      "metadata": {
        "id": "WrYmTKMezdJl"
      },
      "source": [
        "# Package installation and initial configuration"
      ]
    },
    {
      "cell_type": "code",
      "execution_count": 3,
      "metadata": {
        "colab": {
          "base_uri": "https://localhost:8080/",
          "height": 17
        },
        "id": "VrDcPSuyzbfd",
        "outputId": "018dff48-a747-4144-ed97-8e52b9a9da57"
      },
      "outputs": [
        {
          "data": {
            "text/html": [
              "\n",
              "            <style>\n",
              "                .geemap-dark {\n",
              "                    --jp-widgets-color: white;\n",
              "                    --jp-widgets-label-color: white;\n",
              "                    --jp-ui-font-color1: white;\n",
              "                    --jp-layout-color2: #454545;\n",
              "                    background-color: #383838;\n",
              "                }\n",
              "                    \n",
              "                .geemap-dark .jupyter-button {\n",
              "                    --jp-layout-color3: #383838;\n",
              "                }\n",
              "                \n",
              "                .geemap-colab {\n",
              "                    background-color: var(--colab-primary-surface-color, white);\n",
              "                }\n",
              "                    \n",
              "                .geemap-colab .jupyter-button {\n",
              "                    --jp-layout-color3: var(--colab-primary-surface-color, white);\n",
              "                }\n",
              "            </style>\n",
              "            "
            ],
            "text/plain": [
              "<IPython.core.display.HTML object>"
            ]
          },
          "metadata": {},
          "output_type": "display_data"
        }
      ],
      "source": [
        "#!pip install geemap #Uncomment if not installed\n",
        "import ee\n",
        "import geemap\n",
        "\n",
        "import numpy as np\n",
        "import matplotlib.pyplot as plt"
      ]
    },
    {
      "cell_type": "markdown",
      "metadata": {
        "id": "jS0eDwHCzwuB"
      },
      "source": [
        "#Creation of the Environment Map"
      ]
    },
    {
      "cell_type": "code",
      "execution_count": 4,
      "metadata": {
        "colab": {
          "base_uri": "https://localhost:8080/",
          "height": 0,
          "referenced_widgets": [
            "a64f2b3886f242f8a353b37eb2709062",
            "1b8a4bc5dea0484c88dafbcfa5422391",
            "452408e68dd3488f90bb32b49791a3c7",
            "cf0cb502b3ae4870aafe0a89752806b9",
            "84015f9264dc47798206afc277f8fbdd",
            "15e8f9e26ce24125bfc9e9d6738b027a",
            "ffb11e5b25af4695a463bcae28eafd3a",
            "7941a41c8756451abfe310683d679e1e",
            "e91e901590cc4891b138cdb74eb8cec3",
            "46e3a399fe1f4b068bafd0633aa873be",
            "d18d0356287d4a08b2e775240ead8e34",
            "ace7bf8d017e4a409f1031e22de453e5",
            "b2ec71d5c5ec495db0ddd25054e11d45",
            "283f6361d7ec400d92d5dee564cd9c4b",
            "d3e382587dcc44d08c8eeb288e866573",
            "178339d57f9049c69cca054d4610ce94",
            "9a59268ac0b749d3ad767c2d124d2f9d",
            "536989be440443429987fb92772ad234",
            "aabff9cd205d45bda8559b988a753d89",
            "411168b2bc5045b59b94598eb691c37a",
            "4dd91f71fa0b456a80a05a9d5c1dc71d",
            "1721de3b70b54c9b86fce34448484945",
            "5de9da5001ba42da8daaac93e3155484",
            "849a3e9268ab47a7b3760bae0c6dd984",
            "13ceda857fb74f1facf15887cef7af99",
            "c85eb64d15c3415187b4ca1ed11a1c66",
            "a729aab80a6b4e9db70097793bc2cd38",
            "73ceefd6f9894f86b5359082734c36a7",
            "c8c49bd9040949cd9e03838338cd6077",
            "a8d922d8ca754f59adbb0e71a38fc71e",
            "6a59f92a58b1466896f3d7921f014064",
            "664486af2d8d43cab4951e54c212abc6",
            "6fbbc14c1a1c4034bc4be6124e5455b4",
            "f3f51447b30e404e8992b14a97b3e83b",
            "887dd53cc333487d8299b9de1edaa038",
            "aadcdee0d20b4ecc8cb112ec6a8b9797",
            "1cc9b75ce59f4101973b170a44c8686f",
            "7c15d8a2d58e49dbbb08de03cfc36081",
            "a97e7abd11064038b9f50edb49270bb5",
            "a6e59f7dd7724dfbb33b1ae26e96c67c",
            "8a46f2f8db254564bedd1931cea6af85",
            "c48d45fa576244e2abf0829d7387e5e2",
            "65691f3a3a13426b82f2c0063daf711f",
            "762d4547c62a49088c47746a5562f7d5",
            "2261d4ee14134f14bcdeea9bd8b25582",
            "ca3d3cc83c0c4d8ebd4b5ef2fec2159f",
            "0b2227847f6e4d3ca3ee881a4e88cbb4",
            "dd4c63815d7c4625be7613396417e606",
            "ae84b722c0644c14bdbda295dd292be7",
            "0754b67c21334a59b6eaccfc65a9d365",
            "f0809c84c66447f886ae2c8f21656a1e",
            "975b4c527f414ceda00eb6e89682ed30",
            "93811637875845acb58d7abab65b072b",
            "301a1a381f804a8397e9780b0dfba75b",
            "a656517483d7491ca122105dfd117da2",
            "f1b8d7de031a47d1844b1a22c5c23d9c",
            "81f55bad1217488ab01922dc84df2472",
            "3bde6bc6c768468e9a9f29520413b4c7",
            "eda55eeff3ab4cb3ae304303af04f288",
            "ffd88076493a43749f8d542cb9d7e3ea",
            "245e6ed398c04159ac1120183044687a",
            "275f74f842bf4c26a3bdb5e08125dcae",
            "a81ef22167644dd8a9f49b458ad37c6a",
            "47cbef13e72e40d8940af7dc1e3d3174",
            "4780792d3a9b4b74905b8a93ab292f61",
            "dd7e6fa11db545b7840ac2a9bbfd62ec",
            "bddee60255cc429abae44c6c718db7b2",
            "012edf686b4848f49b9560b483851fdb",
            "87e94e62225b4aeb8fb90408f626c04d",
            "1141e00244174065a5eaa4d27ec46a1a",
            "8f46e125d13b4747bd19f9a28a0f6be8",
            "2aeba0c785394716b596284e3ab82dfd",
            "d9b91b2d9314444882ebf480806b5eaa",
            "bf3662be0e8841ee8915e36600883af1",
            "4b81b569444f47e49882b8972d390f80",
            "7b1a96c928b34ce6a8e0febcdda8faa6",
            "db41b7fab07242f08d6a772d6baf4269",
            "f5fce44f515f4efcb649573d153ca421",
            "67915519614b4fa6845c94a92cae4289"
          ]
        },
        "id": "NJmRnxWgz-Os",
        "outputId": "5f07eb62-5e1e-4343-a686-9f510921973b"
      },
      "outputs": [
        {
          "data": {
            "text/html": [
              "\n",
              "            <style>\n",
              "                .geemap-dark {\n",
              "                    --jp-widgets-color: white;\n",
              "                    --jp-widgets-label-color: white;\n",
              "                    --jp-ui-font-color1: white;\n",
              "                    --jp-layout-color2: #454545;\n",
              "                    background-color: #383838;\n",
              "                }\n",
              "                    \n",
              "                .geemap-dark .jupyter-button {\n",
              "                    --jp-layout-color3: #383838;\n",
              "                }\n",
              "                \n",
              "                .geemap-colab {\n",
              "                    background-color: var(--colab-primary-surface-color, white);\n",
              "                }\n",
              "                    \n",
              "                .geemap-colab .jupyter-button {\n",
              "                    --jp-layout-color3: var(--colab-primary-surface-color, white);\n",
              "                }\n",
              "            </style>\n",
              "            "
            ],
            "text/plain": [
              "<IPython.core.display.HTML object>"
            ]
          },
          "metadata": {},
          "output_type": "display_data"
        },
        {
          "data": {
            "application/vnd.jupyter.widget-view+json": {
              "model_id": "a64f2b3886f242f8a353b37eb2709062",
              "version_major": 2,
              "version_minor": 0
            },
            "text/plain": [
              "Map(center=[40.9089, -74.99597], controls=(WidgetControl(options=['position', 'transparent_bg'], widget=Search…"
            ]
          },
          "metadata": {
            "application/vnd.jupyter.widget-view+json": {
              "colab": {
                "custom_widget_manager": {
                  "url": "https://ssl.gstatic.com/colaboratory-static/widgets/colab-cdn-widget-manager/b3e629b1971e1542/manager.min.js"
                }
              }
            }
          },
          "output_type": "display_data"
        }
      ],
      "source": [
        "# Create the map\n",
        "Map = geemap.Map()\n",
        "\n",
        "# Select the interest point\n",
        "point =  ee.Geometry.Point([-74.99597,40.9089 ]) #New York\n",
        "#point =  ee.Geometry.Point([-106.65114,35.08449 ]) #Albuquerque\n",
        "#point =  ee.Geometry.Point([2.3486000,48.8534000]) #Paris\n",
        "#point =  ee.Geometry.Point([-4.0226300, 39.8581000]) #Madrid and Toledo\n",
        "\n",
        "\n",
        "#Create a collection of Landsat images, removing clouds and filtering by bands.\n",
        "image = (\n",
        "    ee.ImageCollection('LANDSAT/LC08/C01/T1_SR')\n",
        "    .filterBounds(point)\n",
        "    .filterDate('2016-01-01', '2017-01-01')\n",
        "    .sort('CLOUD_COVER')\n",
        "    .first()\n",
        "    .select(['B1', 'B2', 'B3', 'B4', 'B5', 'B6', 'B7'])\n",
        ")\n",
        "\n",
        "# Create an interactive map and add Landsat imagery\n",
        "Map.centerObject(point,7)\n",
        "Map.addLayer(image, {'min': 0, 'max': 3000, 'bands': ['B5', 'B4', 'B3']}, \"Landsat-8\")\n",
        "\n",
        "# Show interactive map\n",
        "Map"
      ]
    },
    {
      "cell_type": "markdown",
      "metadata": {
        "id": "eBl4_5Ve0coI"
      },
      "source": [
        "#Supervised Classification\n",
        "\n",
        "Firstly, the training data is created through the *sample* function, applying the data coming from the NLCD dataset (https://developers.google.com/earth-engine/datasets/catalog/USGS_NLCD).\n",
        "\n",
        "Once this is done, the information of interest will be obtained by superimposing the points of the selected image with the training data. Then, a CART (Classification And Regression Tree) classifier is used to train the model with these samples, using this classifier in the input image to determinate the classes. Finally, the values and class palette of the original NLCD layer are obtained and this information is used to visualize the classification on the map and establish a legend.\n",
        "\n",
        "Based on: https://geemap.org/notebooks/32_supervised_classification/\n",
        "\n"
      ]
    },
    {
      "cell_type": "markdown",
      "metadata": {
        "id": "TeKV82tRotUT"
      },
      "source": [
        "#### Training + Classification"
      ]
    },
    {
      "cell_type": "code",
      "execution_count": 15,
      "metadata": {
        "colab": {
          "base_uri": "https://localhost:8080/",
          "height": 0,
          "referenced_widgets": [
            "a64f2b3886f242f8a353b37eb2709062",
            "1b8a4bc5dea0484c88dafbcfa5422391",
            "452408e68dd3488f90bb32b49791a3c7",
            "cf0cb502b3ae4870aafe0a89752806b9",
            "84015f9264dc47798206afc277f8fbdd",
            "15e8f9e26ce24125bfc9e9d6738b027a",
            "ffb11e5b25af4695a463bcae28eafd3a",
            "7941a41c8756451abfe310683d679e1e",
            "e91e901590cc4891b138cdb74eb8cec3",
            "73ceefd6f9894f86b5359082734c36a7",
            "ca3d3cc83c0c4d8ebd4b5ef2fec2159f",
            "47cbef13e72e40d8940af7dc1e3d3174",
            "46e3a399fe1f4b068bafd0633aa873be",
            "d18d0356287d4a08b2e775240ead8e34",
            "ace7bf8d017e4a409f1031e22de453e5",
            "b2ec71d5c5ec495db0ddd25054e11d45",
            "2261d4ee14134f14bcdeea9bd8b25582",
            "275f74f842bf4c26a3bdb5e08125dcae",
            "a81ef22167644dd8a9f49b458ad37c6a",
            "283f6361d7ec400d92d5dee564cd9c4b",
            "178339d57f9049c69cca054d4610ce94",
            "9a59268ac0b749d3ad767c2d124d2f9d",
            "c8c49bd9040949cd9e03838338cd6077",
            "0b2227847f6e4d3ca3ee881a4e88cbb4",
            "4780792d3a9b4b74905b8a93ab292f61",
            "536989be440443429987fb92772ad234",
            "aabff9cd205d45bda8559b988a753d89",
            "411168b2bc5045b59b94598eb691c37a",
            "4dd91f71fa0b456a80a05a9d5c1dc71d",
            "a8d922d8ca754f59adbb0e71a38fc71e",
            "6a59f92a58b1466896f3d7921f014064",
            "dd4c63815d7c4625be7613396417e606",
            "ae84b722c0644c14bdbda295dd292be7",
            "dd7e6fa11db545b7840ac2a9bbfd62ec",
            "bddee60255cc429abae44c6c718db7b2",
            "1721de3b70b54c9b86fce34448484945",
            "5de9da5001ba42da8daaac93e3155484",
            "849a3e9268ab47a7b3760bae0c6dd984",
            "13ceda857fb74f1facf15887cef7af99",
            "664486af2d8d43cab4951e54c212abc6",
            "6fbbc14c1a1c4034bc4be6124e5455b4",
            "f3f51447b30e404e8992b14a97b3e83b",
            "0754b67c21334a59b6eaccfc65a9d365",
            "f0809c84c66447f886ae2c8f21656a1e",
            "975b4c527f414ceda00eb6e89682ed30",
            "012edf686b4848f49b9560b483851fdb",
            "87e94e62225b4aeb8fb90408f626c04d",
            "1141e00244174065a5eaa4d27ec46a1a",
            "887dd53cc333487d8299b9de1edaa038",
            "aadcdee0d20b4ecc8cb112ec6a8b9797",
            "1cc9b75ce59f4101973b170a44c8686f",
            "7c15d8a2d58e49dbbb08de03cfc36081",
            "93811637875845acb58d7abab65b072b",
            "301a1a381f804a8397e9780b0dfba75b",
            "a656517483d7491ca122105dfd117da2",
            "f1b8d7de031a47d1844b1a22c5c23d9c",
            "8f46e125d13b4747bd19f9a28a0f6be8",
            "2aeba0c785394716b596284e3ab82dfd",
            "d9b91b2d9314444882ebf480806b5eaa",
            "bf3662be0e8841ee8915e36600883af1",
            "a97e7abd11064038b9f50edb49270bb5",
            "a6e59f7dd7724dfbb33b1ae26e96c67c",
            "8a46f2f8db254564bedd1931cea6af85",
            "81f55bad1217488ab01922dc84df2472",
            "3bde6bc6c768468e9a9f29520413b4c7",
            "4b81b569444f47e49882b8972d390f80",
            "7b1a96c928b34ce6a8e0febcdda8faa6",
            "c48d45fa576244e2abf0829d7387e5e2",
            "eda55eeff3ab4cb3ae304303af04f288",
            "db41b7fab07242f08d6a772d6baf4269",
            "65691f3a3a13426b82f2c0063daf711f",
            "762d4547c62a49088c47746a5562f7d5",
            "ffd88076493a43749f8d542cb9d7e3ea",
            "245e6ed398c04159ac1120183044687a",
            "f5fce44f515f4efcb649573d153ca421",
            "67915519614b4fa6845c94a92cae4289"
          ]
        },
        "id": "1u-sPSylbNNH",
        "outputId": "eedc4271-82be-425d-faf5-2102a1a64ad7"
      },
      "outputs": [
        {
          "data": {
            "text/html": [
              "\n",
              "            <style>\n",
              "                .geemap-dark {\n",
              "                    --jp-widgets-color: white;\n",
              "                    --jp-widgets-label-color: white;\n",
              "                    --jp-ui-font-color1: white;\n",
              "                    --jp-layout-color2: #454545;\n",
              "                    background-color: #383838;\n",
              "                }\n",
              "                    \n",
              "                .geemap-dark .jupyter-button {\n",
              "                    --jp-layout-color3: #383838;\n",
              "                }\n",
              "                \n",
              "                .geemap-colab {\n",
              "                    background-color: var(--colab-primary-surface-color, white);\n",
              "                }\n",
              "                    \n",
              "                .geemap-colab .jupyter-button {\n",
              "                    --jp-layout-color3: var(--colab-primary-surface-color, white);\n",
              "                }\n",
              "            </style>\n",
              "            "
            ],
            "text/plain": [
              "<IPython.core.display.HTML object>"
            ]
          },
          "metadata": {},
          "output_type": "display_data"
        },
        {
          "data": {
            "application/vnd.jupyter.widget-view+json": {
              "model_id": "a64f2b3886f242f8a353b37eb2709062",
              "version_major": 2,
              "version_minor": 0
            },
            "text/plain": [
              "Map(bottom=12597.0, center=[40.9089, -74.99597], controls=(WidgetControl(options=['position', 'transparent_bg'…"
            ]
          },
          "metadata": {
            "application/vnd.jupyter.widget-view+json": {
              "colab": {
                "custom_widget_manager": {
                  "url": "https://ssl.gstatic.com/colaboratory-static/widgets/colab-cdn-widget-manager/b3e629b1971e1542/manager.min.js"
                }
              }
            }
          },
          "output_type": "display_data"
        }
      ],
      "source": [
        "# Training Phase\n",
        "# Load Dataset\n",
        "nlcd = ee.Image('USGS/NLCD/NLCD2016').select('landcover').clip(image.geometry())\n",
        "# The ids of the classes of the dataset are selected\n",
        "ids = nlcd.get('landcover_class_values').getInfo()\n",
        "# Classes are rearranged for easy interpretation\n",
        "n = len(ids)\n",
        "new_class = list(range(0, n))\n",
        "# Color codes are obtained for each class\n",
        "class_color = nlcd.get('landcover_class_palette').getInfo()\n",
        "# The ids are adjusted with the new tags\n",
        "nlcd = nlcd.remap(ids, new_class).select(\n",
        "    ['remapped'], ['landcover']\n",
        ")\n",
        "# The training is initialized with the new ids values.\n",
        "nlcd = nlcd.set('landcover_class_values', new_class)\n",
        "nlcd = nlcd.set('landcover_class_palette', class_color)\n",
        "points = nlcd.sample(\n",
        "    region=image.geometry(),\n",
        "    scale=30,\n",
        "    numPixels=5000,\n",
        "    seed=0,\n",
        "    geometries=True,\n",
        ")\n",
        "# Update training data on the map\n",
        "Map.addLayer(nlcd, {}, 'NLCD')\n",
        "\n",
        "# Training the classifier\n",
        "# Overlay the points to get training.\n",
        "Overlapping_points = image.select(['B1', 'B2', 'B3', 'B4', 'B5', 'B6', 'B7']).sampleRegions(\n",
        "    collection=points,\n",
        "    properties=['landcover'],\n",
        "    scale=30\n",
        ")\n",
        "# A training/validation threshold is established (90% of the data will go to training and 10% to validation). it will be used for validation section\n",
        "Threshold = Overlapping_points.randomColumn()\n",
        "split = 0.9\n",
        "training = Threshold.filter(ee.Filter.lt('random', split))\n",
        "validation = Threshold.filter(ee.Filter.gte('random', split))\n",
        "\n",
        "# Train a CART classifier with default parameters.\n",
        "trained = ee.Classifier.smileCart().train(training, 'landcover', ['B1', 'B2', 'B3', 'B4', 'B5', 'B6', 'B7'])\n",
        "\n",
        "# Classify\n",
        "# Classify the using the Band of the training\n",
        "result = image.select(['B1', 'B2', 'B3', 'B4', 'B5', 'B6', 'B7']).classify(trained)\n",
        "# Draw categorical map according to the established classes.\n",
        "landcover = result.set('classification_class_values', new_class).set('classification_class_palette', class_color)\n",
        "Map.addLayer(landcover, {}, 'Land cover')\n",
        "# Establish the legend and represent the map\n",
        "Map.add_legend(builtin_legend='NLCD')\n",
        "Map"
      ]
    },
    {
      "cell_type": "markdown",
      "metadata": {
        "id": "Z-MjHXEW0gkc"
      },
      "source": [
        "#### Validation and Class ratios\n",
        "\n"
      ]
    },
    {
      "cell_type": "markdown",
      "metadata": {
        "id": "qlNYmkku4qw1"
      },
      "source": [
        "Training Data"
      ]
    },
    {
      "cell_type": "code",
      "execution_count": 11,
      "metadata": {
        "colab": {
          "base_uri": "https://localhost:8080/",
          "height": 34
        },
        "id": "Igq4IC7kp2u0",
        "outputId": "e4c5721c-f7f4-4854-d13b-a89118581055"
      },
      "outputs": [
        {
          "data": {
            "text/html": [
              "\n",
              "            <style>\n",
              "                .geemap-dark {\n",
              "                    --jp-widgets-color: white;\n",
              "                    --jp-widgets-label-color: white;\n",
              "                    --jp-ui-font-color1: white;\n",
              "                    --jp-layout-color2: #454545;\n",
              "                    background-color: #383838;\n",
              "                }\n",
              "                    \n",
              "                .geemap-dark .jupyter-button {\n",
              "                    --jp-layout-color3: #383838;\n",
              "                }\n",
              "                \n",
              "                .geemap-colab {\n",
              "                    background-color: var(--colab-primary-surface-color, white);\n",
              "                }\n",
              "                    \n",
              "                .geemap-colab .jupyter-button {\n",
              "                    --jp-layout-color3: var(--colab-primary-surface-color, white);\n",
              "                }\n",
              "            </style>\n",
              "            "
            ],
            "text/plain": [
              "<IPython.core.display.HTML object>"
            ]
          },
          "metadata": {},
          "output_type": "display_data"
        },
        {
          "data": {
            "text/plain": [
              "1"
            ]
          },
          "execution_count": 11,
          "metadata": {},
          "output_type": "execute_result"
        }
      ],
      "source": [
        "# Create a confusion matrix (predicted data/actual data) and get its precision. It will be used the training data\n",
        "train_accuracy = trained.confusionMatrix()\n",
        "train_accuracy.getInfo()\n",
        "train_accuracy.accuracy().getInfo()"
      ]
    },
    {
      "cell_type": "markdown",
      "metadata": {
        "id": "1LjGKtafrWHo"
      },
      "source": [
        "Validation Data"
      ]
    },
    {
      "cell_type": "code",
      "execution_count": 12,
      "metadata": {
        "colab": {
          "base_uri": "https://localhost:8080/",
          "height": 34
        },
        "id": "Ux5FwhG-qisU",
        "outputId": "1ca8f1a1-1ced-4fd9-c729-34444d6cff7d"
      },
      "outputs": [
        {
          "data": {
            "text/html": [
              "\n",
              "            <style>\n",
              "                .geemap-dark {\n",
              "                    --jp-widgets-color: white;\n",
              "                    --jp-widgets-label-color: white;\n",
              "                    --jp-ui-font-color1: white;\n",
              "                    --jp-layout-color2: #454545;\n",
              "                    background-color: #383838;\n",
              "                }\n",
              "                    \n",
              "                .geemap-dark .jupyter-button {\n",
              "                    --jp-layout-color3: #383838;\n",
              "                }\n",
              "                \n",
              "                .geemap-colab {\n",
              "                    background-color: var(--colab-primary-surface-color, white);\n",
              "                }\n",
              "                    \n",
              "                .geemap-colab .jupyter-button {\n",
              "                    --jp-layout-color3: var(--colab-primary-surface-color, white);\n",
              "                }\n",
              "            </style>\n",
              "            "
            ],
            "text/plain": [
              "<IPython.core.display.HTML object>"
            ]
          },
          "metadata": {},
          "output_type": "display_data"
        },
        {
          "data": {
            "text/plain": [
              "0.41935483870967744"
            ]
          },
          "execution_count": 12,
          "metadata": {},
          "output_type": "execute_result"
        }
      ],
      "source": [
        "# Create a confusion matrix (predicted data/actual data) and get its precision. It will be used the validation data\n",
        "validated = validation.classify(trained)\n",
        "test_accuracy = validated.errorMatrix('landcover', 'classification')\n",
        "test_accuracy.getInfo()\n",
        "test_accuracy.accuracy().getInfo()"
      ]
    },
    {
      "cell_type": "markdown",
      "metadata": {
        "id": "ggGo0OJ-7Y6k"
      },
      "source": [
        "Ratios"
      ]
    },
    {
      "cell_type": "code",
      "execution_count": 16,
      "metadata": {
        "colab": {
          "base_uri": "https://localhost:8080/",
          "height": 139
        },
        "id": "EUR2C6_-95Kg",
        "outputId": "22f63f56-6734-4628-e85c-360b5d38edd0"
      },
      "outputs": [
        {
          "data": {
            "text/html": [
              "\n",
              "            <style>\n",
              "                .geemap-dark {\n",
              "                    --jp-widgets-color: white;\n",
              "                    --jp-widgets-label-color: white;\n",
              "                    --jp-ui-font-color1: white;\n",
              "                    --jp-layout-color2: #454545;\n",
              "                    background-color: #383838;\n",
              "                }\n",
              "                    \n",
              "                .geemap-dark .jupyter-button {\n",
              "                    --jp-layout-color3: #383838;\n",
              "                }\n",
              "                \n",
              "                .geemap-colab {\n",
              "                    background-color: var(--colab-primary-surface-color, white);\n",
              "                }\n",
              "                    \n",
              "                .geemap-colab .jupyter-button {\n",
              "                    --jp-layout-color3: var(--colab-primary-surface-color, white);\n",
              "                }\n",
              "            </style>\n",
              "            "
            ],
            "text/plain": [
              "<IPython.core.display.HTML object>"
            ]
          },
          "metadata": {},
          "output_type": "display_data"
        },
        {
          "name": "stdout",
          "output_type": "stream",
          "text": [
            "Sum of proportions for Urban area: 30.123529057142463 %\n",
            "Sum of proportions for Water area: 12.461425161703419 %\n",
            "Sum of proportions for Dry area: 15.966533137701818 %\n",
            "Sum of proportions for Grassland area: 0.5724431684186775 %\n",
            "Sum of proportions for Forest area: 29.680681893471483 %\n",
            "Sum of proportions for Mountain area: 0.306905763074594 %\n",
            "Sum of proportions for Other categories: 10.888481818487534 %\n"
          ]
        }
      ],
      "source": [
        "# Get the total number of pixels in the region of interest.\n",
        "totalPixels = image.select(0).reduceRegion(\n",
        "    reducer=ee.Reducer.count(),\n",
        "    geometry=image.geometry(),\n",
        "    scale=30,\n",
        "    maxPixels=1e13\n",
        ").get('B1')\n",
        "# Count pixels for each category.\n",
        "classCounts = result.reduceRegion(\n",
        "    reducer=ee.Reducer.frequencyHistogram(),\n",
        "    geometry=image.geometry(),\n",
        "    scale=30,\n",
        "    maxPixels=1e13\n",
        ")\n",
        "# Get the result as a dictionary.\n",
        "classCountsInfo = ee.Dictionary(ee.Feature(None, classCounts).get('classification'))\n",
        "# Get the ratios directly from classCountsInfo\n",
        "class_counts_info = classCountsInfo.getInfo()\n",
        "\n",
        "# The proportions are obtained for each id\n",
        "proportions = {}\n",
        "for key, value in class_counts_info.items():\n",
        "    proportions[key] = value / totalPixels.getInfo()\n",
        "# Previously defined classes are grouped to simplify the results. \n",
        "urban_classes = ['2', '3', '4', '5']\n",
        "water_classes = ['0', '1']\n",
        "dry_classes = ['10', '11', '16', '17']\n",
        "grassland_classes = ['12', '13', '14', '15']\n",
        "forest_classes = ['7', '8', '9']\n",
        "mountain_classes = ['6']\n",
        "\n",
        "# Sum of the proportions of the specified classes\n",
        "class_lists = [urban_classes, water_classes, dry_classes, grassland_classes, forest_classes, mountain_classes]\n",
        "class_names = ['Urban', 'Water', 'Dry', 'Grassland', 'Forest', 'Mountain']\n",
        "sum_other_classes = 0\n",
        "for class_list, class_name in zip(class_lists, class_names):\n",
        "    class_sum = 0\n",
        "    for key in class_list:\n",
        "        class_sum += proportions.get(key, 0)\n",
        "    print(f\"Sum of proportions for {class_name} area: {class_sum * 100} %\")\n",
        "    # Add for the other categories\n",
        "    sum_other_classes += class_sum\n",
        "\n",
        "# Print the sum for other categories\n",
        "print(f\"Sum of proportions for Other categories: {100 - sum_other_classes * 100} %\")"
      ]
    },
    {
      "cell_type": "markdown",
      "metadata": {
        "id": "hjq8a2OKHDh8"
      },
      "source": [
        "#Unsupervised Classification\n",
        "\n",
        "Firstly, the training data is created through the *sample* function applied to our image of interest. Once the training is completed, we proceed to select the number of clusters using the \"*elbow method*\", an heuristic technique based on the realization of an inertia-cluster graph, so that the number of clusters for which the variation of the inertia begins to stabilize will be selected. Once this is done, using the function *cluster*, the clustering algorithm is applied as such, segmenting by groups the different pixels of the trained image according to their characteristics. Once this is done, the legend is configured according to the number of clusters and the program is completed.\n",
        "\n",
        "Based on: https://geemap.org/notebooks/31_unsupervised_classification/"
      ]
    },
    {
      "cell_type": "markdown",
      "metadata": {
        "id": "D5b-zKfoBDjy"
      },
      "source": [
        "#### Training"
      ]
    },
    {
      "cell_type": "code",
      "execution_count": 9,
      "metadata": {
        "colab": {
          "base_uri": "https://localhost:8080/",
          "height": 17
        },
        "id": "bek7arpuHDQV",
        "outputId": "214430b0-ccf7-4876-e779-3a534114fd83"
      },
      "outputs": [
        {
          "data": {
            "text/html": [
              "\n",
              "            <style>\n",
              "                .geemap-dark {\n",
              "                    --jp-widgets-color: white;\n",
              "                    --jp-widgets-label-color: white;\n",
              "                    --jp-ui-font-color1: white;\n",
              "                    --jp-layout-color2: #454545;\n",
              "                    background-color: #383838;\n",
              "                }\n",
              "                    \n",
              "                .geemap-dark .jupyter-button {\n",
              "                    --jp-layout-color3: #383838;\n",
              "                }\n",
              "                \n",
              "                .geemap-colab {\n",
              "                    background-color: var(--colab-primary-surface-color, white);\n",
              "                }\n",
              "                    \n",
              "                .geemap-colab .jupyter-button {\n",
              "                    --jp-layout-color3: var(--colab-primary-surface-color, white);\n",
              "                }\n",
              "            </style>\n",
              "            "
            ],
            "text/plain": [
              "<IPython.core.display.HTML object>"
            ]
          },
          "metadata": {},
          "output_type": "display_data"
        }
      ],
      "source": [
        "# Training the dataset\n",
        "training = image.sample(\n",
        "    **{\n",
        "        'scale': 30,\n",
        "        'numPixels': 5000,\n",
        "        'seed': 0,\n",
        "        'geometries': True,\n",
        "    }\n",
        ")\n",
        "# The working coordinates are determined\n",
        "coords = np.array(training.geometry().coordinates().getInfo())"
      ]
    },
    {
      "cell_type": "markdown",
      "metadata": {
        "id": "e7qKKRjq2DRR"
      },
      "source": [
        "#### Determinate Cluster Number"
      ]
    },
    {
      "cell_type": "code",
      "execution_count": null,
      "metadata": {
        "colab": {
          "base_uri": "https://localhost:8080/",
          "height": 472
        },
        "id": "FYLc7qm42ALm",
        "outputId": "f6bab162-b8f8-4277-96a4-4b3b35118e5a"
      },
      "outputs": [
        {
          "data": {
            "text/html": [
              "\n",
              "            <style>\n",
              "                .geemap-dark {\n",
              "                    --jp-widgets-color: white;\n",
              "                    --jp-widgets-label-color: white;\n",
              "                    --jp-ui-font-color1: white;\n",
              "                    --jp-layout-color2: #454545;\n",
              "                    background-color: #383838;\n",
              "                }\n",
              "                    \n",
              "                .geemap-dark .jupyter-button {\n",
              "                    --jp-layout-color3: #383838;\n",
              "                }\n",
              "                \n",
              "                .geemap-colab {\n",
              "                    background-color: var(--colab-primary-surface-color, white);\n",
              "                }\n",
              "                    \n",
              "                .geemap-colab .jupyter-button {\n",
              "                    --jp-layout-color3: var(--colab-primary-surface-color, white);\n",
              "                }\n",
              "            </style>\n",
              "            "
            ],
            "text/plain": [
              "<IPython.core.display.HTML object>"
            ]
          },
          "metadata": {},
          "output_type": "display_data"
        },
        {
          "data": {
            "image/png": "[encoded data removed]",
            "text/plain": [
              "<Figure size 640x480 with 1 Axes>"
            ]
          },
          "metadata": {},
          "output_type": "display_data"
        }
      ],
      "source": [
        "inertia_values = []\n",
        "np.random.seed(2) # A fixed random number seed is set to obtain consistent results.\n",
        "\n",
        "for n_clusters in range(1, 15):  # The graph will be plotted from 1 cluster to 15.\n",
        "    centroids = coords[np.random.choice(len(coords), size=n_clusters, replace=False)] #Random cluster centroids for each number of clusters\n",
        "    distances_squared = np.sum((coords[:, np.newaxis] - centroids) ** 2, axis=2) # Calculate the squared distances between each point and the centroids.\n",
        "    labels = np.argmin(distances_squared, axis=1)# Allocate each point to the nearest cluster\n",
        "    inertia = np.sum(distances_squared[np.arange(len(coords)), labels])# Calculate the inertia as the sum of the squared distances\n",
        "    inertia_values.append(inertia)\n",
        "\n",
        "# Plotting inertia as a function of the number of clusters\n",
        "plt.plot(range(1, 15), inertia_values, marker='o')\n",
        "plt.title('Inertia as a function of the number of clusters')\n",
        "plt.xlabel('Number of clusters')\n",
        "plt.ylabel('Inertia')\n",
        "plt.show()"
      ]
    },
    {
      "cell_type": "markdown",
      "metadata": {
        "id": "0R46ZsIlBJfD"
      },
      "source": [
        "#### Classification"
      ]
    },
    {
      "cell_type": "code",
      "execution_count": 10,
      "metadata": {
        "colab": {
          "base_uri": "https://localhost:8080/",
          "height": 0,
          "referenced_widgets": [
            "a64f2b3886f242f8a353b37eb2709062",
            "1b8a4bc5dea0484c88dafbcfa5422391",
            "452408e68dd3488f90bb32b49791a3c7",
            "cf0cb502b3ae4870aafe0a89752806b9",
            "84015f9264dc47798206afc277f8fbdd",
            "15e8f9e26ce24125bfc9e9d6738b027a",
            "ffb11e5b25af4695a463bcae28eafd3a",
            "7941a41c8756451abfe310683d679e1e",
            "e91e901590cc4891b138cdb74eb8cec3",
            "73ceefd6f9894f86b5359082734c36a7",
            "ca3d3cc83c0c4d8ebd4b5ef2fec2159f",
            "46e3a399fe1f4b068bafd0633aa873be",
            "d18d0356287d4a08b2e775240ead8e34",
            "ace7bf8d017e4a409f1031e22de453e5",
            "b2ec71d5c5ec495db0ddd25054e11d45",
            "c85eb64d15c3415187b4ca1ed11a1c66",
            "a729aab80a6b4e9db70097793bc2cd38",
            "2261d4ee14134f14bcdeea9bd8b25582",
            "283f6361d7ec400d92d5dee564cd9c4b",
            "d3e382587dcc44d08c8eeb288e866573",
            "178339d57f9049c69cca054d4610ce94",
            "9a59268ac0b749d3ad767c2d124d2f9d",
            "c8c49bd9040949cd9e03838338cd6077",
            "0b2227847f6e4d3ca3ee881a4e88cbb4",
            "536989be440443429987fb92772ad234",
            "aabff9cd205d45bda8559b988a753d89",
            "411168b2bc5045b59b94598eb691c37a",
            "4dd91f71fa0b456a80a05a9d5c1dc71d",
            "a8d922d8ca754f59adbb0e71a38fc71e",
            "6a59f92a58b1466896f3d7921f014064",
            "dd4c63815d7c4625be7613396417e606",
            "ae84b722c0644c14bdbda295dd292be7",
            "1721de3b70b54c9b86fce34448484945",
            "5de9da5001ba42da8daaac93e3155484",
            "849a3e9268ab47a7b3760bae0c6dd984",
            "13ceda857fb74f1facf15887cef7af99",
            "664486af2d8d43cab4951e54c212abc6",
            "6fbbc14c1a1c4034bc4be6124e5455b4",
            "f3f51447b30e404e8992b14a97b3e83b",
            "0754b67c21334a59b6eaccfc65a9d365",
            "f0809c84c66447f886ae2c8f21656a1e",
            "975b4c527f414ceda00eb6e89682ed30",
            "887dd53cc333487d8299b9de1edaa038",
            "aadcdee0d20b4ecc8cb112ec6a8b9797",
            "1cc9b75ce59f4101973b170a44c8686f",
            "7c15d8a2d58e49dbbb08de03cfc36081",
            "93811637875845acb58d7abab65b072b",
            "301a1a381f804a8397e9780b0dfba75b",
            "a656517483d7491ca122105dfd117da2",
            "f1b8d7de031a47d1844b1a22c5c23d9c",
            "a97e7abd11064038b9f50edb49270bb5",
            "a6e59f7dd7724dfbb33b1ae26e96c67c",
            "8a46f2f8db254564bedd1931cea6af85",
            "81f55bad1217488ab01922dc84df2472",
            "3bde6bc6c768468e9a9f29520413b4c7",
            "c48d45fa576244e2abf0829d7387e5e2",
            "eda55eeff3ab4cb3ae304303af04f288",
            "65691f3a3a13426b82f2c0063daf711f",
            "762d4547c62a49088c47746a5562f7d5",
            "ffd88076493a43749f8d542cb9d7e3ea",
            "245e6ed398c04159ac1120183044687a",
            "275f74f842bf4c26a3bdb5e08125dcae",
            "a81ef22167644dd8a9f49b458ad37c6a",
            "47cbef13e72e40d8940af7dc1e3d3174",
            "4780792d3a9b4b74905b8a93ab292f61",
            "dd7e6fa11db545b7840ac2a9bbfd62ec",
            "bddee60255cc429abae44c6c718db7b2",
            "012edf686b4848f49b9560b483851fdb",
            "87e94e62225b4aeb8fb90408f626c04d",
            "1141e00244174065a5eaa4d27ec46a1a",
            "8f46e125d13b4747bd19f9a28a0f6be8",
            "2aeba0c785394716b596284e3ab82dfd",
            "d9b91b2d9314444882ebf480806b5eaa",
            "bf3662be0e8841ee8915e36600883af1",
            "4b81b569444f47e49882b8972d390f80",
            "7b1a96c928b34ce6a8e0febcdda8faa6",
            "db41b7fab07242f08d6a772d6baf4269",
            "f5fce44f515f4efcb649573d153ca421",
            "67915519614b4fa6845c94a92cae4289"
          ]
        },
        "id": "D04JjqmT_quP",
        "outputId": "a88139a4-0ff7-4fa6-b024-ba186a7b53c0"
      },
      "outputs": [
        {
          "data": {
            "text/html": [
              "\n",
              "            <style>\n",
              "                .geemap-dark {\n",
              "                    --jp-widgets-color: white;\n",
              "                    --jp-widgets-label-color: white;\n",
              "                    --jp-ui-font-color1: white;\n",
              "                    --jp-layout-color2: #454545;\n",
              "                    background-color: #383838;\n",
              "                }\n",
              "                    \n",
              "                .geemap-dark .jupyter-button {\n",
              "                    --jp-layout-color3: #383838;\n",
              "                }\n",
              "                \n",
              "                .geemap-colab {\n",
              "                    background-color: var(--colab-primary-surface-color, white);\n",
              "                }\n",
              "                    \n",
              "                .geemap-colab .jupyter-button {\n",
              "                    --jp-layout-color3: var(--colab-primary-surface-color, white);\n",
              "                }\n",
              "            </style>\n",
              "            "
            ],
            "text/plain": [
              "<IPython.core.display.HTML object>"
            ]
          },
          "metadata": {},
          "output_type": "display_data"
        },
        {
          "data": {
            "application/vnd.jupyter.widget-view+json": {
              "model_id": "a64f2b3886f242f8a353b37eb2709062",
              "version_major": 2,
              "version_minor": 0
            },
            "text/plain": [
              "Map(bottom=12297.0, center=[40.9089, -74.99597], controls=(WidgetControl(options=['position', 'transparent_bg'…"
            ]
          },
          "metadata": {
            "application/vnd.jupyter.widget-view+json": {
              "colab": {
                "custom_widget_manager": {
                  "url": "https://ssl.gstatic.com/colaboratory-static/widgets/colab-cdn-widget-manager/b3e629b1971e1542/manager.min.js"
                }
              }
            }
          },
          "output_type": "display_data"
        }
      ],
      "source": [
        "# Instantiate the clusterer and train it.\n",
        "n_clusters = 14\n",
        "clusterer = ee.Clusterer.wekaKMeans(n_clusters).train(training)\n",
        "# Cluster the input using the trained clusterer.\n",
        "result = image.cluster(clusterer)\n",
        "# Display the clusters with random colors.\n",
        "legend_keys = ['One', 'Two', 'Three', 'Four', 'Five', 'Six', 'Seven', 'Eight', 'Nine', 'Ten', 'Eleven', 'Twelve', 'Thirteen', 'Fourteen']\n",
        "legend_colors = ['#8DD3C7', '#FFFFB3', '#8B4513', '#80B1D3', '#4CAF50', '#FDB462', '#FB8072','#5E77D7', '#FFD700', '#D2B48C', '#00CED1', '#FF6347', '#7B68EE', '#001F3F']\n",
        "# Reclassify the map\n",
        "result = result.remap(list(range(n_clusters)), list(range(1, n_clusters + 1)))\n",
        "Map.addLayer(\n",
        "    result, {'min': 1, 'max': n_clusters, 'palette': legend_colors}, 'Labelled clusters'\n",
        ")\n",
        "# Map legend is defined according to the number of clusters\n",
        "legend_dict = {}\n",
        "for name, color in zip(legend_keys, legend_colors):\n",
        "    legend_dict[name] = color\n",
        "Map.add_legend(legend_dict=legend_dict, position='bottomright')\n",
        "\n",
        "Map"
      ]
    }
  ],
  "metadata": {
    "colab": {
      "collapsed_sections": [
        "WrYmTKMezdJl",
        "jS0eDwHCzwuB",
        "eBl4_5Ve0coI",
        "TeKV82tRotUT",
        "Z-MjHXEW0gkc",
        "hjq8a2OKHDh8",
        "D5b-zKfoBDjy",
        "e7qKKRjq2DRR",
        "0R46ZsIlBJfD"
      ],
      "provenance": []
    },
    "kernelspec": {
      "display_name": "Python 3",
      "name": "python3"
    },
    "language_info": {
      "name": "python"
    },
    "widgets": {
      "application/vnd.jupyter.widget-state+json": {
        "012edf686b4848f49b9560b483851fdb": {
          "model_module": "@jupyter-widgets/controls",
          "model_module_version": "1.5.0",
          "model_name": "HBoxModel",
          "state": {
            "_dom_classes": [],
            "_model_module": "@jupyter-widgets/controls",
            "_model_module_version": "1.5.0",
            "_model_name": "HBoxModel",
            "_view_count": null,
            "_view_module": "@jupyter-widgets/controls",
            "_view_module_version": "1.5.0",
            "_view_name": "HBoxView",
            "box_style": "",
            "children": [
              "IPY_MODEL_8f46e125d13b4747bd19f9a28a0f6be8"
            ],
            "layout": "IPY_MODEL_2aeba0c785394716b596284e3ab82dfd"
          }
        },
        "0754b67c21334a59b6eaccfc65a9d365": {
          "model_module": "@jupyter-widgets/controls",
          "model_module_version": "1.5.0",
          "model_name": "HBoxModel",
          "state": {
            "_dom_classes": [],
            "_model_module": "@jupyter-widgets/controls",
            "_model_module_version": "1.5.0",
            "_model_name": "HBoxModel",
            "_view_count": null,
            "_view_module": "@jupyter-widgets/controls",
            "_view_module_version": "1.5.0",
            "_view_name": "HBoxView",
            "box_style": "",
            "children": [
              "IPY_MODEL_93811637875845acb58d7abab65b072b"
            ],
            "layout": "IPY_MODEL_301a1a381f804a8397e9780b0dfba75b"
          }
        },
        "0b2227847f6e4d3ca3ee881a4e88cbb4": {
          "model_module": "@jupyter-widgets/controls",
          "model_module_version": "1.5.0",
          "model_name": "VBoxModel",
          "state": {
            "_dom_classes": [
              "geemap-colab"
            ],
            "_model_module": "@jupyter-widgets/controls",
            "_model_module_version": "1.5.0",
            "_model_name": "VBoxModel",
            "_view_count": null,
            "_view_module": "@jupyter-widgets/controls",
            "_view_module_version": "1.5.0",
            "_view_name": "VBoxView",
            "box_style": "",
            "children": [
              "IPY_MODEL_dd4c63815d7c4625be7613396417e606"
            ],
            "layout": "IPY_MODEL_ae84b722c0644c14bdbda295dd292be7"
          }
        },
        "1141e00244174065a5eaa4d27ec46a1a": {
          "model_module": "@jupyter-widgets/base",
          "model_module_version": "1.2.0",
          "model_name": "LayoutModel",
          "state": {
            "_model_module": "@jupyter-widgets/base",
            "_model_module_version": "1.2.0",
            "_model_name": "LayoutModel",
            "_view_count": null,
            "_view_module": "@jupyter-widgets/base",
            "_view_module_version": "1.2.0",
            "_view_name": "LayoutView",
            "align_content": null,
            "align_items": null,
            "align_self": null,
            "border": null,
            "bottom": null,
            "display": null,
            "flex": null,
            "flex_flow": null,
            "grid_area": null,
            "grid_auto_columns": null,
            "grid_auto_flow": null,
            "grid_auto_rows": null,
            "grid_column": null,
            "grid_gap": null,
            "grid_row": null,
            "grid_template_areas": null,
            "grid_template_columns": null,
            "grid_template_rows": null,
            "height": null,
            "justify_content": null,
            "justify_items": null,
            "left": null,
            "margin": null,
            "max_height": null,
            "max_width": null,
            "min_height": null,
            "min_width": null,
            "object_fit": null,
            "object_position": null,
            "order": null,
            "overflow": null,
            "overflow_x": null,
            "overflow_y": null,
            "padding": null,
            "right": null,
            "top": null,
            "visibility": null,
            "width": null
          }
        },
        "13ceda857fb74f1facf15887cef7af99": {
          "model_module": "@jupyter-widgets/controls",
          "model_module_version": "1.5.0",
          "model_name": "DescriptionStyleModel",
          "state": {
            "_model_module": "@jupyter-widgets/controls",
            "_model_module_version": "1.5.0",
            "_model_name": "DescriptionStyleModel",
            "_view_count": null,
            "_view_module": "@jupyter-widgets/base",
            "_view_module_version": "1.2.0",
            "_view_name": "StyleView",
            "description_width": ""
          }
        },
        "15e8f9e26ce24125bfc9e9d6738b027a": {
          "model_module": "jupyter-leaflet",
          "model_module_version": "^0.18",
          "model_name": "LeafletScaleControlModel",
          "state": {
            "_model_module": "jupyter-leaflet",
            "_model_module_version": "^0.18",
            "_model_name": "LeafletScaleControlModel",
            "_view_count": null,
            "_view_module": "jupyter-leaflet",
            "_view_module_version": "^0.18",
            "_view_name": "LeafletScaleControlView",
            "imperial": true,
            "max_width": 100,
            "metric": true,
            "options": [
              "imperial",
              "max_width",
              "metric",
              "position",
              "update_when_idle"
            ],
            "position": "bottomleft",
            "update_when_idle": false
          }
        },
        "1721de3b70b54c9b86fce34448484945": {
          "model_module": "@jupyter-widgets/base",
          "model_module_version": "1.2.0",
          "model_name": "LayoutModel",
          "state": {
            "_model_module": "@jupyter-widgets/base",
            "_model_module_version": "1.2.0",
            "_model_name": "LayoutModel",
            "_view_count": null,
            "_view_module": "@jupyter-widgets/base",
            "_view_module_version": "1.2.0",
            "_view_name": "LayoutView",
            "align_content": null,
            "align_items": null,
            "align_self": null,
            "border": null,
            "bottom": null,
            "display": null,
            "flex": null,
            "flex_flow": null,
            "grid_area": null,
            "grid_auto_columns": null,
            "grid_auto_flow": null,
            "grid_auto_rows": null,
            "grid_column": null,
            "grid_gap": null,
            "grid_row": null,
            "grid_template_areas": null,
            "grid_template_columns": null,
            "grid_template_rows": null,
            "height": "28px",
            "justify_content": null,
            "justify_items": null,
            "left": null,
            "margin": null,
            "max_height": null,
            "max_width": null,
            "min_height": null,
            "min_width": null,
            "object_fit": null,
            "object_position": null,
            "order": null,
            "overflow": null,
            "overflow_x": null,
            "overflow_y": null,
            "padding": "0px 0px 0px 4px",
            "right": null,
            "top": null,
            "visibility": null,
            "width": "28px"
          }
        },
        "178339d57f9049c69cca054d4610ce94": {
          "model_module": "@jupyter-widgets/controls",
          "model_module_version": "1.5.0",
          "model_name": "HBoxModel",
          "state": {
            "_dom_classes": [
              "geemap-colab"
            ],
            "_model_module": "@jupyter-widgets/controls",
            "_model_module_version": "1.5.0",
            "_model_name": "HBoxModel",
            "_view_count": null,
            "_view_module": "@jupyter-widgets/controls",
            "_view_module_version": "1.5.0",
            "_view_name": "HBoxView",
            "box_style": "",
            "children": [
              "IPY_MODEL_536989be440443429987fb92772ad234"
            ],
            "layout": "IPY_MODEL_aabff9cd205d45bda8559b988a753d89"
          }
        },
        "1b8a4bc5dea0484c88dafbcfa5422391": {
          "model_module": "jupyter-leaflet",
          "model_module_version": "^0.18",
          "model_name": "LeafletWidgetControlModel",
          "state": {
            "_model_module": "jupyter-leaflet",
            "_model_module_version": "^0.18",
            "_model_name": "LeafletWidgetControlModel",
            "_view_count": null,
            "_view_module": "jupyter-leaflet",
            "_view_module_version": "^0.18",
            "_view_name": "LeafletWidgetControlView",
            "max_height": null,
            "max_width": null,
            "min_height": null,
            "min_width": null,
            "options": [
              "position",
              "transparent_bg"
            ],
            "position": "topleft",
            "transparent_bg": false,
            "widget": "IPY_MODEL_178339d57f9049c69cca054d4610ce94"
          }
        },
        "1cc9b75ce59f4101973b170a44c8686f": {
          "model_module": "@jupyter-widgets/output",
          "model_module_version": "1.0.0",
          "model_name": "OutputModel",
          "state": {
            "_dom_classes": [],
            "_model_module": "@jupyter-widgets/output",
            "_model_module_version": "1.0.0",
            "_model_name": "OutputModel",
            "_view_count": null,
            "_view_module": "@jupyter-widgets/output",
            "_view_module_version": "1.0.0",
            "_view_name": "OutputView",
            "layout": "IPY_MODEL_8a46f2f8db254564bedd1931cea6af85",
            "msg_id": "",
            "outputs": [
              {
                "data": {
                  "application/vnd.jupyter.widget-view+json": {
                    "model_id": "c48d45fa576244e2abf0829d7387e5e2",
                    "version_major": 2,
                    "version_minor": 0
                  },
                  "text/plain": "HTML(value=\"<html>\\n<body>\\n  <div class='my-legend'>\\n  <div class='legend-title'>Legend</div>\\n  <div class=…"
                },
                "metadata": {
                  "application/vnd.jupyter.widget-view+json": {
                    "colab": {
                      "custom_widget_manager": {
                        "url": "https://ssl.gstatic.com/colaboratory-static/widgets/colab-cdn-widget-manager/b3e629b1971e1542/manager.min.js"
                      }
                    }
                  }
                },
                "output_type": "display_data"
              }
            ]
          }
        },
        "2261d4ee14134f14bcdeea9bd8b25582": {
          "model_module": "jupyter-leaflet",
          "model_module_version": "^0.18",
          "model_name": "LeafletTileLayerModel",
          "state": {
            "_model_module": "jupyter-leaflet",
            "_model_module_version": "^0.18",
            "_model_name": "LeafletTileLayerModel",
            "_view_count": null,
            "_view_module": "jupyter-leaflet",
            "_view_module_version": "^0.18",
            "_view_name": "LeafletTileLayerView",
            "attribution": "Google Earth Engine",
            "base": false,
            "bottom": true,
            "bounds": null,
            "detect_retina": false,
            "loading": false,
            "max_native_zoom": null,
            "max_zoom": 24,
            "min_native_zoom": null,
            "min_zoom": 0,
            "name": "Labelled clusters",
            "no_wrap": false,
            "opacity": 1,
            "options": [
              "attribution",
              "bounds",
              "detect_retina",
              "max_native_zoom",
              "max_zoom",
              "min_native_zoom",
              "min_zoom",
              "no_wrap",
              "tile_size",
              "tms",
              "zoom_offset"
            ],
            "pane": "",
            "popup": null,
            "popup_max_height": null,
            "popup_max_width": 300,
            "popup_min_width": 50,
            "show_loading": false,
            "subitems": [],
            "tile_size": 256,
            "tms": false,
            "url": "https://earthengine.googleapis.com/v1/projects/earthengine-legacy/maps/ce95b4e8374a436f6bc593f5604eb8aa-c7bae437ac066757164b565e34a4c258/tiles/{z}/{x}/{y}",
            "visible": true,
            "zoom_offset": 0
          }
        },
        "245e6ed398c04159ac1120183044687a": {
          "model_module": "@jupyter-widgets/controls",
          "model_module_version": "1.5.0",
          "model_name": "DescriptionStyleModel",
          "state": {
            "_model_module": "@jupyter-widgets/controls",
            "_model_module_version": "1.5.0",
            "_model_name": "DescriptionStyleModel",
            "_view_count": null,
            "_view_module": "@jupyter-widgets/base",
            "_view_module_version": "1.2.0",
            "_view_name": "StyleView",
            "description_width": ""
          }
        },
        "275f74f842bf4c26a3bdb5e08125dcae": {
          "model_module": "jupyter-leaflet",
          "model_module_version": "^0.18",
          "model_name": "LeafletTileLayerModel",
          "state": {
            "_model_module": "jupyter-leaflet",
            "_model_module_version": "^0.18",
            "_model_name": "LeafletTileLayerModel",
            "_view_count": null,
            "_view_module": "jupyter-leaflet",
            "_view_module_version": "^0.18",
            "_view_name": "LeafletTileLayerView",
            "attribution": "Google Earth Engine",
            "base": false,
            "bottom": true,
            "bounds": null,
            "detect_retina": false,
            "loading": false,
            "max_native_zoom": null,
            "max_zoom": 24,
            "min_native_zoom": null,
            "min_zoom": 0,
            "name": "NLCD",
            "no_wrap": false,
            "opacity": 1,
            "options": [
              "attribution",
              "bounds",
              "detect_retina",
              "max_native_zoom",
              "max_zoom",
              "min_native_zoom",
              "min_zoom",
              "no_wrap",
              "tile_size",
              "tms",
              "zoom_offset"
            ],
            "pane": "",
            "popup": null,
            "popup_max_height": null,
            "popup_max_width": 300,
            "popup_min_width": 50,
            "show_loading": false,
            "subitems": [],
            "tile_size": 256,
            "tms": false,
            "url": "https://earthengine.googleapis.com/v1/projects/earthengine-legacy/maps/4c5b255d55920e440546b403c84e76f3-dee22abc7e34612122a5c89035af5113/tiles/{z}/{x}/{y}",
            "visible": true,
            "zoom_offset": 0
          }
        },
        "283f6361d7ec400d92d5dee564cd9c4b": {
          "model_module": "@jupyter-widgets/base",
          "model_module_version": "1.2.0",
          "model_name": "LayoutModel",
          "state": {
            "_model_module": "@jupyter-widgets/base",
            "_model_module_version": "1.2.0",
            "_model_name": "LayoutModel",
            "_view_count": null,
            "_view_module": "@jupyter-widgets/base",
            "_view_module_version": "1.2.0",
            "_view_name": "LayoutView",
            "align_content": null,
            "align_items": null,
            "align_self": null,
            "border": null,
            "bottom": null,
            "display": null,
            "flex": null,
            "flex_flow": null,
            "grid_area": null,
            "grid_auto_columns": null,
            "grid_auto_flow": null,
            "grid_auto_rows": null,
            "grid_column": null,
            "grid_gap": null,
            "grid_row": null,
            "grid_template_areas": null,
            "grid_template_columns": null,
            "grid_template_rows": null,
            "height": "600px",
            "justify_content": null,
            "justify_items": null,
            "left": null,
            "margin": null,
            "max_height": null,
            "max_width": null,
            "min_height": null,
            "min_width": null,
            "object_fit": null,
            "object_position": null,
            "order": null,
            "overflow": null,
            "overflow_x": null,
            "overflow_y": null,
            "padding": null,
            "right": null,
            "top": null,
            "visibility": null,
            "width": null
          }
        },
        "2aeba0c785394716b596284e3ab82dfd": {
          "model_module": "@jupyter-widgets/base",
          "model_module_version": "1.2.0",
          "model_name": "LayoutModel",
          "state": {
            "_model_module": "@jupyter-widgets/base",
            "_model_module_version": "1.2.0",
            "_model_name": "LayoutModel",
            "_view_count": null,
            "_view_module": "@jupyter-widgets/base",
            "_view_module_version": "1.2.0",
            "_view_name": "LayoutView",
            "align_content": null,
            "align_items": null,
            "align_self": null,
            "border": null,
            "bottom": null,
            "display": null,
            "flex": null,
            "flex_flow": null,
            "grid_area": null,
            "grid_auto_columns": null,
            "grid_auto_flow": null,
            "grid_auto_rows": null,
            "grid_column": null,
            "grid_gap": null,
            "grid_row": null,
            "grid_template_areas": null,
            "grid_template_columns": null,
            "grid_template_rows": null,
            "height": null,
            "justify_content": null,
            "justify_items": null,
            "left": null,
            "margin": null,
            "max_height": null,
            "max_width": null,
            "min_height": null,
            "min_width": null,
            "object_fit": null,
            "object_position": null,
            "order": null,
            "overflow": null,
            "overflow_x": null,
            "overflow_y": null,
            "padding": null,
            "right": null,
            "top": null,
            "visibility": null,
            "width": null
          }
        },
        "301a1a381f804a8397e9780b0dfba75b": {
          "model_module": "@jupyter-widgets/base",
          "model_module_version": "1.2.0",
          "model_name": "LayoutModel",
          "state": {
            "_model_module": "@jupyter-widgets/base",
            "_model_module_version": "1.2.0",
            "_model_name": "LayoutModel",
            "_view_count": null,
            "_view_module": "@jupyter-widgets/base",
            "_view_module_version": "1.2.0",
            "_view_name": "LayoutView",
            "align_content": null,
            "align_items": null,
            "align_self": null,
            "border": null,
            "bottom": null,
            "display": null,
            "flex": null,
            "flex_flow": null,
            "grid_area": null,
            "grid_auto_columns": null,
            "grid_auto_flow": null,
            "grid_auto_rows": null,
            "grid_column": null,
            "grid_gap": null,
            "grid_row": null,
            "grid_template_areas": null,
            "grid_template_columns": null,
            "grid_template_rows": null,
            "height": null,
            "justify_content": null,
            "justify_items": null,
            "left": null,
            "margin": null,
            "max_height": null,
            "max_width": null,
            "min_height": null,
            "min_width": null,
            "object_fit": null,
            "object_position": null,
            "order": null,
            "overflow": null,
            "overflow_x": null,
            "overflow_y": null,
            "padding": null,
            "right": null,
            "top": null,
            "visibility": null,
            "width": null
          }
        },
        "3bde6bc6c768468e9a9f29520413b4c7": {
          "model_module": "@jupyter-widgets/base",
          "model_module_version": "1.2.0",
          "model_name": "LayoutModel",
          "state": {
            "_model_module": "@jupyter-widgets/base",
            "_model_module_version": "1.2.0",
            "_model_name": "LayoutModel",
            "_view_count": null,
            "_view_module": "@jupyter-widgets/base",
            "_view_module_version": "1.2.0",
            "_view_name": "LayoutView",
            "align_content": null,
            "align_items": null,
            "align_self": null,
            "border": null,
            "bottom": null,
            "display": null,
            "flex": null,
            "flex_flow": null,
            "grid_area": null,
            "grid_auto_columns": null,
            "grid_auto_flow": null,
            "grid_auto_rows": null,
            "grid_column": null,
            "grid_gap": null,
            "grid_row": null,
            "grid_template_areas": null,
            "grid_template_columns": null,
            "grid_template_rows": null,
            "height": null,
            "justify_content": null,
            "justify_items": null,
            "left": null,
            "margin": null,
            "max_height": "400px",
            "max_width": "300px",
            "min_height": null,
            "min_width": null,
            "object_fit": null,
            "object_position": null,
            "order": null,
            "overflow": "scroll",
            "overflow_x": null,
            "overflow_y": null,
            "padding": null,
            "right": null,
            "top": null,
            "visibility": null,
            "width": null
          }
        },
        "411168b2bc5045b59b94598eb691c37a": {
          "model_module": "@jupyter-widgets/controls",
          "model_module_version": "1.5.0",
          "model_name": "ToggleButtonModel",
          "state": {
            "_dom_classes": [],
            "_model_module": "@jupyter-widgets/controls",
            "_model_module_version": "1.5.0",
            "_model_name": "ToggleButtonModel",
            "_view_count": null,
            "_view_module": "@jupyter-widgets/controls",
            "_view_module_version": "1.5.0",
            "_view_name": "ToggleButtonView",
            "button_style": "",
            "description": "",
            "description_tooltip": null,
            "disabled": false,
            "icon": "wrench",
            "layout": "IPY_MODEL_849a3e9268ab47a7b3760bae0c6dd984",
            "style": "IPY_MODEL_13ceda857fb74f1facf15887cef7af99",
            "tooltip": "Toolbar",
            "value": false
          }
        },
        "452408e68dd3488f90bb32b49791a3c7": {
          "model_module": "jupyter-leaflet",
          "model_module_version": "^0.18",
          "model_name": "LeafletZoomControlModel",
          "state": {
            "_model_module": "jupyter-leaflet",
            "_model_module_version": "^0.18",
            "_model_name": "LeafletZoomControlModel",
            "_view_count": null,
            "_view_module": "jupyter-leaflet",
            "_view_module_version": "^0.18",
            "_view_name": "LeafletZoomControlView",
            "options": [
              "position",
              "zoom_in_text",
              "zoom_in_title",
              "zoom_out_text",
              "zoom_out_title"
            ],
            "position": "topleft",
            "zoom_in_text": "+",
            "zoom_in_title": "Zoom in",
            "zoom_out_text": "-",
            "zoom_out_title": "Zoom out"
          }
        },
        "46e3a399fe1f4b068bafd0633aa873be": {
          "model_module": "jupyter-leaflet",
          "model_module_version": "^0.18",
          "model_name": "LeafletMapStyleModel",
          "state": {
            "_model_module": "jupyter-leaflet",
            "_model_module_version": "^0.18",
            "_model_name": "LeafletMapStyleModel",
            "_view_count": null,
            "_view_module": "@jupyter-widgets/base",
            "_view_module_version": "1.2.0",
            "_view_name": "StyleView",
            "cursor": "grab"
          }
        },
        "4780792d3a9b4b74905b8a93ab292f61": {
          "model_module": "@jupyter-widgets/controls",
          "model_module_version": "1.5.0",
          "model_name": "VBoxModel",
          "state": {
            "_dom_classes": [
              "geemap-colab"
            ],
            "_model_module": "@jupyter-widgets/controls",
            "_model_module_version": "1.5.0",
            "_model_name": "VBoxModel",
            "_view_count": null,
            "_view_module": "@jupyter-widgets/controls",
            "_view_module_version": "1.5.0",
            "_view_name": "VBoxView",
            "box_style": "",
            "children": [
              "IPY_MODEL_dd7e6fa11db545b7840ac2a9bbfd62ec"
            ],
            "layout": "IPY_MODEL_bddee60255cc429abae44c6c718db7b2"
          }
        },
        "47cbef13e72e40d8940af7dc1e3d3174": {
          "model_module": "jupyter-leaflet",
          "model_module_version": "^0.18",
          "model_name": "LeafletWidgetControlModel",
          "state": {
            "_model_module": "jupyter-leaflet",
            "_model_module_version": "^0.18",
            "_model_name": "LeafletWidgetControlModel",
            "_view_count": null,
            "_view_module": "jupyter-leaflet",
            "_view_module_version": "^0.18",
            "_view_name": "LeafletWidgetControlView",
            "max_height": null,
            "max_width": null,
            "min_height": null,
            "min_width": null,
            "options": [
              "position",
              "transparent_bg"
            ],
            "position": "bottomright",
            "transparent_bg": false,
            "widget": "IPY_MODEL_4780792d3a9b4b74905b8a93ab292f61"
          }
        },
        "4b81b569444f47e49882b8972d390f80": {
          "model_module": "@jupyter-widgets/controls",
          "model_module_version": "1.5.0",
          "model_name": "DescriptionStyleModel",
          "state": {
            "_model_module": "@jupyter-widgets/controls",
            "_model_module_version": "1.5.0",
            "_model_name": "DescriptionStyleModel",
            "_view_count": null,
            "_view_module": "@jupyter-widgets/base",
            "_view_module_version": "1.2.0",
            "_view_name": "StyleView",
            "description_width": ""
          }
        },
        "4dd91f71fa0b456a80a05a9d5c1dc71d": {
          "model_module": "@jupyter-widgets/base",
          "model_module_version": "1.2.0",
          "model_name": "LayoutModel",
          "state": {
            "_model_module": "@jupyter-widgets/base",
            "_model_module_version": "1.2.0",
            "_model_name": "LayoutModel",
            "_view_count": null,
            "_view_module": "@jupyter-widgets/base",
            "_view_module_version": "1.2.0",
            "_view_name": "LayoutView",
            "align_content": null,
            "align_items": null,
            "align_self": null,
            "border": null,
            "bottom": null,
            "display": null,
            "flex": null,
            "flex_flow": null,
            "grid_area": null,
            "grid_auto_columns": null,
            "grid_auto_flow": null,
            "grid_auto_rows": null,
            "grid_column": null,
            "grid_gap": null,
            "grid_row": null,
            "grid_template_areas": null,
            "grid_template_columns": null,
            "grid_template_rows": null,
            "height": null,
            "justify_content": null,
            "justify_items": null,
            "left": null,
            "margin": null,
            "max_height": null,
            "max_width": null,
            "min_height": null,
            "min_width": null,
            "object_fit": null,
            "object_position": null,
            "order": null,
            "overflow": null,
            "overflow_x": null,
            "overflow_y": null,
            "padding": null,
            "right": null,
            "top": null,
            "visibility": null,
            "width": null
          }
        },
        "536989be440443429987fb92772ad234": {
          "model_module": "@jupyter-widgets/controls",
          "model_module_version": "1.5.0",
          "model_name": "ToggleButtonModel",
          "state": {
            "_dom_classes": [],
            "_model_module": "@jupyter-widgets/controls",
            "_model_module_version": "1.5.0",
            "_model_name": "ToggleButtonModel",
            "_view_count": null,
            "_view_module": "@jupyter-widgets/controls",
            "_view_module_version": "1.5.0",
            "_view_name": "ToggleButtonView",
            "button_style": "",
            "description": "",
            "description_tooltip": null,
            "disabled": false,
            "icon": "globe",
            "layout": "IPY_MODEL_1721de3b70b54c9b86fce34448484945",
            "style": "IPY_MODEL_5de9da5001ba42da8daaac93e3155484",
            "tooltip": "Search location/data",
            "value": false
          }
        },
        "5de9da5001ba42da8daaac93e3155484": {
          "model_module": "@jupyter-widgets/controls",
          "model_module_version": "1.5.0",
          "model_name": "DescriptionStyleModel",
          "state": {
            "_model_module": "@jupyter-widgets/controls",
            "_model_module_version": "1.5.0",
            "_model_name": "DescriptionStyleModel",
            "_view_count": null,
            "_view_module": "@jupyter-widgets/base",
            "_view_module_version": "1.2.0",
            "_view_name": "StyleView",
            "description_width": ""
          }
        },
        "65691f3a3a13426b82f2c0063daf711f": {
          "model_module": "@jupyter-widgets/base",
          "model_module_version": "1.2.0",
          "model_name": "LayoutModel",
          "state": {
            "_model_module": "@jupyter-widgets/base",
            "_model_module_version": "1.2.0",
            "_model_name": "LayoutModel",
            "_view_count": null,
            "_view_module": "@jupyter-widgets/base",
            "_view_module_version": "1.2.0",
            "_view_name": "LayoutView",
            "align_content": null,
            "align_items": null,
            "align_self": null,
            "border": null,
            "bottom": null,
            "display": null,
            "flex": null,
            "flex_flow": null,
            "grid_area": null,
            "grid_auto_columns": null,
            "grid_auto_flow": null,
            "grid_auto_rows": null,
            "grid_column": null,
            "grid_gap": null,
            "grid_row": null,
            "grid_template_areas": null,
            "grid_template_columns": null,
            "grid_template_rows": null,
            "height": null,
            "justify_content": null,
            "justify_items": null,
            "left": null,
            "margin": null,
            "max_height": null,
            "max_width": null,
            "min_height": null,
            "min_width": null,
            "object_fit": null,
            "object_position": null,
            "order": null,
            "overflow": null,
            "overflow_x": null,
            "overflow_y": null,
            "padding": null,
            "right": null,
            "top": null,
            "visibility": null,
            "width": null
          }
        },
        "664486af2d8d43cab4951e54c212abc6": {
          "model_module": "@jupyter-widgets/controls",
          "model_module_version": "1.5.0",
          "model_name": "HBoxModel",
          "state": {
            "_dom_classes": [],
            "_model_module": "@jupyter-widgets/controls",
            "_model_module_version": "1.5.0",
            "_model_name": "HBoxModel",
            "_view_count": null,
            "_view_module": "@jupyter-widgets/controls",
            "_view_module_version": "1.5.0",
            "_view_name": "HBoxView",
            "box_style": "",
            "children": [
              "IPY_MODEL_887dd53cc333487d8299b9de1edaa038"
            ],
            "layout": "IPY_MODEL_aadcdee0d20b4ecc8cb112ec6a8b9797"
          }
        },
        "67915519614b4fa6845c94a92cae4289": {
          "model_module": "@jupyter-widgets/controls",
          "model_module_version": "1.5.0",
          "model_name": "DescriptionStyleModel",
          "state": {
            "_model_module": "@jupyter-widgets/controls",
            "_model_module_version": "1.5.0",
            "_model_name": "DescriptionStyleModel",
            "_view_count": null,
            "_view_module": "@jupyter-widgets/base",
            "_view_module_version": "1.2.0",
            "_view_name": "StyleView",
            "description_width": ""
          }
        },
        "6a59f92a58b1466896f3d7921f014064": {
          "model_module": "@jupyter-widgets/base",
          "model_module_version": "1.2.0",
          "model_name": "LayoutModel",
          "state": {
            "_model_module": "@jupyter-widgets/base",
            "_model_module_version": "1.2.0",
            "_model_name": "LayoutModel",
            "_view_count": null,
            "_view_module": "@jupyter-widgets/base",
            "_view_module_version": "1.2.0",
            "_view_name": "LayoutView",
            "align_content": null,
            "align_items": null,
            "align_self": null,
            "border": null,
            "bottom": null,
            "display": null,
            "flex": null,
            "flex_flow": null,
            "grid_area": null,
            "grid_auto_columns": null,
            "grid_auto_flow": null,
            "grid_auto_rows": null,
            "grid_column": null,
            "grid_gap": null,
            "grid_row": null,
            "grid_template_areas": null,
            "grid_template_columns": null,
            "grid_template_rows": null,
            "height": null,
            "justify_content": null,
            "justify_items": null,
            "left": null,
            "margin": null,
            "max_height": null,
            "max_width": null,
            "min_height": null,
            "min_width": null,
            "object_fit": null,
            "object_position": null,
            "order": null,
            "overflow": null,
            "overflow_x": null,
            "overflow_y": null,
            "padding": null,
            "right": null,
            "top": null,
            "visibility": null,
            "width": null
          }
        },
        "6fbbc14c1a1c4034bc4be6124e5455b4": {
          "model_module": "@jupyter-widgets/controls",
          "model_module_version": "1.5.0",
          "model_name": "VBoxModel",
          "state": {
            "_dom_classes": [],
            "_model_module": "@jupyter-widgets/controls",
            "_model_module_version": "1.5.0",
            "_model_name": "VBoxModel",
            "_view_count": null,
            "_view_module": "@jupyter-widgets/controls",
            "_view_module_version": "1.5.0",
            "_view_name": "VBoxView",
            "box_style": "",
            "children": [
              "IPY_MODEL_1cc9b75ce59f4101973b170a44c8686f"
            ],
            "layout": "IPY_MODEL_7c15d8a2d58e49dbbb08de03cfc36081"
          }
        },
        "73ceefd6f9894f86b5359082734c36a7": {
          "model_module": "jupyter-leaflet",
          "model_module_version": "^0.18",
          "model_name": "LeafletWidgetControlModel",
          "state": {
            "_model_module": "jupyter-leaflet",
            "_model_module_version": "^0.18",
            "_model_name": "LeafletWidgetControlModel",
            "_view_count": null,
            "_view_module": "jupyter-leaflet",
            "_view_module_version": "^0.18",
            "_view_name": "LeafletWidgetControlView",
            "max_height": null,
            "max_width": null,
            "min_height": null,
            "min_width": null,
            "options": [
              "position",
              "transparent_bg"
            ],
            "position": "bottomright",
            "transparent_bg": false,
            "widget": "IPY_MODEL_c8c49bd9040949cd9e03838338cd6077"
          }
        },
        "762d4547c62a49088c47746a5562f7d5": {
          "model_module": "@jupyter-widgets/controls",
          "model_module_version": "1.5.0",
          "model_name": "DescriptionStyleModel",
          "state": {
            "_model_module": "@jupyter-widgets/controls",
            "_model_module_version": "1.5.0",
            "_model_name": "DescriptionStyleModel",
            "_view_count": null,
            "_view_module": "@jupyter-widgets/base",
            "_view_module_version": "1.2.0",
            "_view_name": "StyleView",
            "description_width": ""
          }
        },
        "7941a41c8756451abfe310683d679e1e": {
          "model_module": "jupyter-leaflet",
          "model_module_version": "^0.18",
          "model_name": "LeafletWidgetControlModel",
          "state": {
            "_model_module": "jupyter-leaflet",
            "_model_module_version": "^0.18",
            "_model_name": "LeafletWidgetControlModel",
            "_view_count": null,
            "_view_module": "jupyter-leaflet",
            "_view_module_version": "^0.18",
            "_view_name": "LeafletWidgetControlView",
            "max_height": null,
            "max_width": null,
            "min_height": null,
            "min_width": null,
            "options": [
              "position",
              "transparent_bg"
            ],
            "position": "topright",
            "transparent_bg": false,
            "widget": "IPY_MODEL_9a59268ac0b749d3ad767c2d124d2f9d"
          }
        },
        "7b1a96c928b34ce6a8e0febcdda8faa6": {
          "model_module": "@jupyter-widgets/base",
          "model_module_version": "1.2.0",
          "model_name": "LayoutModel",
          "state": {
            "_model_module": "@jupyter-widgets/base",
            "_model_module_version": "1.2.0",
            "_model_name": "LayoutModel",
            "_view_count": null,
            "_view_module": "@jupyter-widgets/base",
            "_view_module_version": "1.2.0",
            "_view_name": "LayoutView",
            "align_content": null,
            "align_items": null,
            "align_self": null,
            "border": null,
            "bottom": null,
            "display": null,
            "flex": null,
            "flex_flow": null,
            "grid_area": null,
            "grid_auto_columns": null,
            "grid_auto_flow": null,
            "grid_auto_rows": null,
            "grid_column": null,
            "grid_gap": null,
            "grid_row": null,
            "grid_template_areas": null,
            "grid_template_columns": null,
            "grid_template_rows": null,
            "height": null,
            "justify_content": null,
            "justify_items": null,
            "left": null,
            "margin": null,
            "max_height": "400px",
            "max_width": "300px",
            "min_height": null,
            "min_width": null,
            "object_fit": null,
            "object_position": null,
            "order": null,
            "overflow": "scroll",
            "overflow_x": null,
            "overflow_y": null,
            "padding": null,
            "right": null,
            "top": null,
            "visibility": null,
            "width": null
          }
        },
        "7c15d8a2d58e49dbbb08de03cfc36081": {
          "model_module": "@jupyter-widgets/base",
          "model_module_version": "1.2.0",
          "model_name": "LayoutModel",
          "state": {
            "_model_module": "@jupyter-widgets/base",
            "_model_module_version": "1.2.0",
            "_model_name": "LayoutModel",
            "_view_count": null,
            "_view_module": "@jupyter-widgets/base",
            "_view_module_version": "1.2.0",
            "_view_name": "LayoutView",
            "align_content": null,
            "align_items": null,
            "align_self": null,
            "border": null,
            "bottom": null,
            "display": null,
            "flex": null,
            "flex_flow": null,
            "grid_area": null,
            "grid_auto_columns": null,
            "grid_auto_flow": null,
            "grid_auto_rows": null,
            "grid_column": null,
            "grid_gap": null,
            "grid_row": null,
            "grid_template_areas": null,
            "grid_template_columns": null,
            "grid_template_rows": null,
            "height": null,
            "justify_content": null,
            "justify_items": null,
            "left": null,
            "margin": null,
            "max_height": null,
            "max_width": null,
            "min_height": null,
            "min_width": null,
            "object_fit": null,
            "object_position": null,
            "order": null,
            "overflow": null,
            "overflow_x": null,
            "overflow_y": null,
            "padding": null,
            "right": null,
            "top": null,
            "visibility": null,
            "width": null
          }
        },
        "81f55bad1217488ab01922dc84df2472": {
          "model_module": "@jupyter-widgets/controls",
          "model_module_version": "1.5.0",
          "model_name": "DescriptionStyleModel",
          "state": {
            "_model_module": "@jupyter-widgets/controls",
            "_model_module_version": "1.5.0",
            "_model_name": "DescriptionStyleModel",
            "_view_count": null,
            "_view_module": "@jupyter-widgets/base",
            "_view_module_version": "1.2.0",
            "_view_name": "StyleView",
            "description_width": ""
          }
        },
        "84015f9264dc47798206afc277f8fbdd": {
          "model_module": "jupyter-leaflet",
          "model_module_version": "^0.18",
          "model_name": "LeafletDrawControlModel",
          "state": {
            "_model_module": "jupyter-leaflet",
            "_model_module_version": "^0.18",
            "_model_name": "LeafletDrawControlModel",
            "_view_count": null,
            "_view_module": "jupyter-leaflet",
            "_view_module_version": "^0.18",
            "_view_name": "LeafletDrawControlView",
            "circle": {},
            "circlemarker": {},
            "data": [],
            "edit": true,
            "marker": {
              "shapeOptions": {
                "color": "#3388ff"
              }
            },
            "options": [
              "position"
            ],
            "polygon": {
              "shapeOptions": {}
            },
            "polyline": {
              "shapeOptions": {}
            },
            "position": "topleft",
            "rectangle": {
              "shapeOptions": {
                "color": "#3388ff"
              }
            },
            "remove": true
          }
        },
        "849a3e9268ab47a7b3760bae0c6dd984": {
          "model_module": "@jupyter-widgets/base",
          "model_module_version": "1.2.0",
          "model_name": "LayoutModel",
          "state": {
            "_model_module": "@jupyter-widgets/base",
            "_model_module_version": "1.2.0",
            "_model_name": "LayoutModel",
            "_view_count": null,
            "_view_module": "@jupyter-widgets/base",
            "_view_module_version": "1.2.0",
            "_view_name": "LayoutView",
            "align_content": null,
            "align_items": null,
            "align_self": null,
            "border": null,
            "bottom": null,
            "display": null,
            "flex": null,
            "flex_flow": null,
            "grid_area": null,
            "grid_auto_columns": null,
            "grid_auto_flow": null,
            "grid_auto_rows": null,
            "grid_column": null,
            "grid_gap": null,
            "grid_row": null,
            "grid_template_areas": null,
            "grid_template_columns": null,
            "grid_template_rows": null,
            "height": "28px",
            "justify_content": null,
            "justify_items": null,
            "left": null,
            "margin": null,
            "max_height": null,
            "max_width": null,
            "min_height": null,
            "min_width": null,
            "object_fit": null,
            "object_position": null,
            "order": null,
            "overflow": null,
            "overflow_x": null,
            "overflow_y": null,
            "padding": "0px 0px 0px 4px",
            "right": null,
            "top": null,
            "visibility": null,
            "width": "28px"
          }
        },
        "87e94e62225b4aeb8fb90408f626c04d": {
          "model_module": "@jupyter-widgets/controls",
          "model_module_version": "1.5.0",
          "model_name": "VBoxModel",
          "state": {
            "_dom_classes": [],
            "_model_module": "@jupyter-widgets/controls",
            "_model_module_version": "1.5.0",
            "_model_name": "VBoxModel",
            "_view_count": null,
            "_view_module": "@jupyter-widgets/controls",
            "_view_module_version": "1.5.0",
            "_view_name": "VBoxView",
            "box_style": "",
            "children": [
              "IPY_MODEL_d9b91b2d9314444882ebf480806b5eaa"
            ],
            "layout": "IPY_MODEL_bf3662be0e8841ee8915e36600883af1"
          }
        },
        "887dd53cc333487d8299b9de1edaa038": {
          "model_module": "@jupyter-widgets/controls",
          "model_module_version": "1.5.0",
          "model_name": "ToggleButtonModel",
          "state": {
            "_dom_classes": [],
            "_model_module": "@jupyter-widgets/controls",
            "_model_module_version": "1.5.0",
            "_model_name": "ToggleButtonModel",
            "_view_count": null,
            "_view_module": "@jupyter-widgets/controls",
            "_view_module_version": "1.5.0",
            "_view_name": "ToggleButtonView",
            "button_style": "",
            "description": "",
            "description_tooltip": null,
            "disabled": false,
            "icon": "bars",
            "layout": "IPY_MODEL_a97e7abd11064038b9f50edb49270bb5",
            "style": "IPY_MODEL_a6e59f7dd7724dfbb33b1ae26e96c67c",
            "tooltip": "Toolbar",
            "value": true
          }
        },
        "8a46f2f8db254564bedd1931cea6af85": {
          "model_module": "@jupyter-widgets/base",
          "model_module_version": "1.2.0",
          "model_name": "LayoutModel",
          "state": {
            "_model_module": "@jupyter-widgets/base",
            "_model_module_version": "1.2.0",
            "_model_name": "LayoutModel",
            "_view_count": null,
            "_view_module": "@jupyter-widgets/base",
            "_view_module_version": "1.2.0",
            "_view_name": "LayoutView",
            "align_content": null,
            "align_items": null,
            "align_self": null,
            "border": null,
            "bottom": null,
            "display": null,
            "flex": null,
            "flex_flow": null,
            "grid_area": null,
            "grid_auto_columns": null,
            "grid_auto_flow": null,
            "grid_auto_rows": null,
            "grid_column": null,
            "grid_gap": null,
            "grid_row": null,
            "grid_template_areas": null,
            "grid_template_columns": null,
            "grid_template_rows": null,
            "height": null,
            "justify_content": null,
            "justify_items": null,
            "left": null,
            "margin": null,
            "max_height": "400px",
            "max_width": "300px",
            "min_height": null,
            "min_width": null,
            "object_fit": null,
            "object_position": null,
            "order": null,
            "overflow": "scroll",
            "overflow_x": null,
            "overflow_y": null,
            "padding": null,
            "right": null,
            "top": null,
            "visibility": null,
            "width": null
          }
        },
        "8f46e125d13b4747bd19f9a28a0f6be8": {
          "model_module": "@jupyter-widgets/controls",
          "model_module_version": "1.5.0",
          "model_name": "ToggleButtonModel",
          "state": {
            "_dom_classes": [],
            "_model_module": "@jupyter-widgets/controls",
            "_model_module_version": "1.5.0",
            "_model_name": "ToggleButtonModel",
            "_view_count": null,
            "_view_module": "@jupyter-widgets/controls",
            "_view_module_version": "1.5.0",
            "_view_name": "ToggleButtonView",
            "button_style": "",
            "description": "",
            "description_tooltip": null,
            "disabled": false,
            "icon": "bars",
            "layout": "IPY_MODEL_a97e7abd11064038b9f50edb49270bb5",
            "style": "IPY_MODEL_4b81b569444f47e49882b8972d390f80",
            "tooltip": "Toolbar",
            "value": true
          }
        },
        "93811637875845acb58d7abab65b072b": {
          "model_module": "@jupyter-widgets/controls",
          "model_module_version": "1.5.0",
          "model_name": "ToggleButtonModel",
          "state": {
            "_dom_classes": [],
            "_model_module": "@jupyter-widgets/controls",
            "_model_module_version": "1.5.0",
            "_model_name": "ToggleButtonModel",
            "_view_count": null,
            "_view_module": "@jupyter-widgets/controls",
            "_view_module_version": "1.5.0",
            "_view_name": "ToggleButtonView",
            "button_style": "",
            "description": "",
            "description_tooltip": null,
            "disabled": false,
            "icon": "bars",
            "layout": "IPY_MODEL_a97e7abd11064038b9f50edb49270bb5",
            "style": "IPY_MODEL_81f55bad1217488ab01922dc84df2472",
            "tooltip": "Toolbar",
            "value": true
          }
        },
        "975b4c527f414ceda00eb6e89682ed30": {
          "model_module": "@jupyter-widgets/base",
          "model_module_version": "1.2.0",
          "model_name": "LayoutModel",
          "state": {
            "_model_module": "@jupyter-widgets/base",
            "_model_module_version": "1.2.0",
            "_model_name": "LayoutModel",
            "_view_count": null,
            "_view_module": "@jupyter-widgets/base",
            "_view_module_version": "1.2.0",
            "_view_name": "LayoutView",
            "align_content": null,
            "align_items": null,
            "align_self": null,
            "border": null,
            "bottom": null,
            "display": null,
            "flex": null,
            "flex_flow": null,
            "grid_area": null,
            "grid_auto_columns": null,
            "grid_auto_flow": null,
            "grid_auto_rows": null,
            "grid_column": null,
            "grid_gap": null,
            "grid_row": null,
            "grid_template_areas": null,
            "grid_template_columns": null,
            "grid_template_rows": null,
            "height": null,
            "justify_content": null,
            "justify_items": null,
            "left": null,
            "margin": null,
            "max_height": null,
            "max_width": null,
            "min_height": null,
            "min_width": null,
            "object_fit": null,
            "object_position": null,
            "order": null,
            "overflow": null,
            "overflow_x": null,
            "overflow_y": null,
            "padding": null,
            "right": null,
            "top": null,
            "visibility": null,
            "width": null
          }
        },
        "9a59268ac0b749d3ad767c2d124d2f9d": {
          "model_module": "@jupyter-widgets/controls",
          "model_module_version": "1.5.0",
          "model_name": "VBoxModel",
          "state": {
            "_dom_classes": [
              "geemap-colab"
            ],
            "_model_module": "@jupyter-widgets/controls",
            "_model_module_version": "1.5.0",
            "_model_name": "VBoxModel",
            "_view_count": null,
            "_view_module": "@jupyter-widgets/controls",
            "_view_module_version": "1.5.0",
            "_view_name": "VBoxView",
            "box_style": "",
            "children": [
              "IPY_MODEL_411168b2bc5045b59b94598eb691c37a"
            ],
            "layout": "IPY_MODEL_4dd91f71fa0b456a80a05a9d5c1dc71d"
          }
        },
        "a64f2b3886f242f8a353b37eb2709062": {
          "model_module": "jupyter-leaflet",
          "model_module_version": "^0.18",
          "model_name": "LeafletMapModel",
          "state": {
            "_dom_classes": [],
            "_model_module": "jupyter-leaflet",
            "_model_module_version": "^0.18",
            "_model_name": "LeafletMapModel",
            "_view_count": null,
            "_view_module": "jupyter-leaflet",
            "_view_module_version": "^0.18",
            "_view_name": "LeafletMapView",
            "bottom": 12297,
            "bounce_at_zoom_limits": true,
            "box_zoom": true,
            "center": [
              40.9089,
              -74.99597
            ],
            "close_popup_on_click": true,
            "controls": [
              "IPY_MODEL_1b8a4bc5dea0484c88dafbcfa5422391",
              "IPY_MODEL_452408e68dd3488f90bb32b49791a3c7",
              "IPY_MODEL_cf0cb502b3ae4870aafe0a89752806b9",
              "IPY_MODEL_84015f9264dc47798206afc277f8fbdd",
              "IPY_MODEL_15e8f9e26ce24125bfc9e9d6738b027a",
              "IPY_MODEL_ffb11e5b25af4695a463bcae28eafd3a",
              "IPY_MODEL_7941a41c8756451abfe310683d679e1e",
              "IPY_MODEL_e91e901590cc4891b138cdb74eb8cec3",
              "IPY_MODEL_73ceefd6f9894f86b5359082734c36a7",
              "IPY_MODEL_ca3d3cc83c0c4d8ebd4b5ef2fec2159f",
              "IPY_MODEL_47cbef13e72e40d8940af7dc1e3d3174"
            ],
            "crs": {
              "custom": false,
              "name": "EPSG3857"
            },
            "default_style": "IPY_MODEL_46e3a399fe1f4b068bafd0633aa873be",
            "double_click_zoom": true,
            "dragging": true,
            "dragging_style": "IPY_MODEL_d18d0356287d4a08b2e775240ead8e34",
            "east": -74.99267578125001,
            "fullscreen": false,
            "inertia": true,
            "inertia_deceleration": 3000,
            "inertia_max_speed": 1500,
            "interpolation": "bilinear",
            "keyboard": true,
            "keyboard_pan_offset": 80,
            "keyboard_zoom_offset": 1,
            "layers": [
              "IPY_MODEL_ace7bf8d017e4a409f1031e22de453e5",
              "IPY_MODEL_b2ec71d5c5ec495db0ddd25054e11d45",
              "IPY_MODEL_2261d4ee14134f14bcdeea9bd8b25582",
              "IPY_MODEL_275f74f842bf4c26a3bdb5e08125dcae",
              "IPY_MODEL_a81ef22167644dd8a9f49b458ad37c6a"
            ],
            "layout": "IPY_MODEL_283f6361d7ec400d92d5dee564cd9c4b",
            "left": 9558,
            "max_zoom": 24,
            "min_zoom": null,
            "modisdate": "2024-01-13",
            "north": 40.9052096972736,
            "options": [
              "bounce_at_zoom_limits",
              "box_zoom",
              "center",
              "close_popup_on_click",
              "double_click_zoom",
              "dragging",
              "fullscreen",
              "inertia",
              "inertia_deceleration",
              "inertia_max_speed",
              "interpolation",
              "keyboard",
              "keyboard_pan_offset",
              "keyboard_zoom_offset",
              "max_zoom",
              "min_zoom",
              "prefer_canvas",
              "scroll_wheel_zoom",
              "tap",
              "tap_tolerance",
              "touch_zoom",
              "world_copy_jump",
              "zoom",
              "zoom_animation_threshold",
              "zoom_delta",
              "zoom_snap"
            ],
            "panes": {},
            "prefer_canvas": false,
            "right": 9558,
            "scroll_wheel_zoom": true,
            "south": 40.9052096972736,
            "style": "IPY_MODEL_46e3a399fe1f4b068bafd0633aa873be",
            "tap": true,
            "tap_tolerance": 15,
            "top": 12297,
            "touch_zoom": true,
            "west": -74.99267578125001,
            "window_url": "https://if73ygirel-496ff2e9c6d22116-0-colab.googleusercontent.com/outputframe.html?vrz=colab_20240111-060117_RC01_597566451",
            "world_copy_jump": false,
            "zoom": 7,
            "zoom_animation_threshold": 4,
            "zoom_delta": 1,
            "zoom_snap": 1
          }
        },
        "a656517483d7491ca122105dfd117da2": {
          "model_module": "@jupyter-widgets/output",
          "model_module_version": "1.0.0",
          "model_name": "OutputModel",
          "state": {
            "_dom_classes": [],
            "_model_module": "@jupyter-widgets/output",
            "_model_module_version": "1.0.0",
            "_model_name": "OutputModel",
            "_view_count": null,
            "_view_module": "@jupyter-widgets/output",
            "_view_module_version": "1.0.0",
            "_view_name": "OutputView",
            "layout": "IPY_MODEL_3bde6bc6c768468e9a9f29520413b4c7",
            "msg_id": "",
            "outputs": [
              {
                "data": {
                  "application/vnd.jupyter.widget-view+json": {
                    "model_id": "eda55eeff3ab4cb3ae304303af04f288",
                    "version_major": 2,
                    "version_minor": 0
                  },
                  "text/plain": "HTML(value=\"<html>\\n<body>\\n  <div class='my-legend'>\\n  <div class='legend-title'>Legend</div>\\n  <div class=…"
                },
                "metadata": {
                  "application/vnd.jupyter.widget-view+json": {
                    "colab": {
                      "custom_widget_manager": {
                        "url": "https://ssl.gstatic.com/colaboratory-static/widgets/colab-cdn-widget-manager/b3e629b1971e1542/manager.min.js"
                      }
                    }
                  }
                },
                "output_type": "display_data"
              }
            ]
          }
        },
        "a6e59f7dd7724dfbb33b1ae26e96c67c": {
          "model_module": "@jupyter-widgets/controls",
          "model_module_version": "1.5.0",
          "model_name": "DescriptionStyleModel",
          "state": {
            "_model_module": "@jupyter-widgets/controls",
            "_model_module_version": "1.5.0",
            "_model_name": "DescriptionStyleModel",
            "_view_count": null,
            "_view_module": "@jupyter-widgets/base",
            "_view_module_version": "1.2.0",
            "_view_name": "StyleView",
            "description_width": ""
          }
        },
        "a729aab80a6b4e9db70097793bc2cd38": {
          "model_module": "jupyter-leaflet",
          "model_module_version": "^0.18",
          "model_name": "LeafletTileLayerModel",
          "state": {
            "_model_module": "jupyter-leaflet",
            "_model_module_version": "^0.18",
            "_model_name": "LeafletTileLayerModel",
            "_view_count": null,
            "_view_module": "jupyter-leaflet",
            "_view_module_version": "^0.18",
            "_view_name": "LeafletTileLayerView",
            "attribution": "Google Earth Engine",
            "base": false,
            "bottom": true,
            "bounds": null,
            "detect_retina": false,
            "loading": true,
            "max_native_zoom": null,
            "max_zoom": 24,
            "min_native_zoom": null,
            "min_zoom": 0,
            "name": "Land cover",
            "no_wrap": false,
            "opacity": 1,
            "options": [
              "attribution",
              "bounds",
              "detect_retina",
              "max_native_zoom",
              "max_zoom",
              "min_native_zoom",
              "min_zoom",
              "no_wrap",
              "tile_size",
              "tms",
              "zoom_offset"
            ],
            "pane": "",
            "popup": null,
            "popup_max_height": null,
            "popup_max_width": 300,
            "popup_min_width": 50,
            "show_loading": false,
            "subitems": [],
            "tile_size": 256,
            "tms": false,
            "url": "https://earthengine.googleapis.com/v1/projects/earthengine-legacy/maps/ad95025e2c29749337b746b91a24ef39-a9b361732dc95a70b762c4c09f68d7b5/tiles/{z}/{x}/{y}",
            "visible": true,
            "zoom_offset": 0
          }
        },
        "a81ef22167644dd8a9f49b458ad37c6a": {
          "model_module": "jupyter-leaflet",
          "model_module_version": "^0.18",
          "model_name": "LeafletTileLayerModel",
          "state": {
            "_model_module": "jupyter-leaflet",
            "_model_module_version": "^0.18",
            "_model_name": "LeafletTileLayerModel",
            "_view_count": null,
            "_view_module": "jupyter-leaflet",
            "_view_module_version": "^0.18",
            "_view_name": "LeafletTileLayerView",
            "attribution": "Google Earth Engine",
            "base": false,
            "bottom": true,
            "bounds": null,
            "detect_retina": false,
            "loading": false,
            "max_native_zoom": null,
            "max_zoom": 24,
            "min_native_zoom": null,
            "min_zoom": 0,
            "name": "Land cover",
            "no_wrap": false,
            "opacity": 1,
            "options": [
              "attribution",
              "bounds",
              "detect_retina",
              "max_native_zoom",
              "max_zoom",
              "min_native_zoom",
              "min_zoom",
              "no_wrap",
              "tile_size",
              "tms",
              "zoom_offset"
            ],
            "pane": "",
            "popup": null,
            "popup_max_height": null,
            "popup_max_width": 300,
            "popup_min_width": 50,
            "show_loading": false,
            "subitems": [],
            "tile_size": 256,
            "tms": false,
            "url": "https://earthengine.googleapis.com/v1/projects/earthengine-legacy/maps/ad95025e2c29749337b746b91a24ef39-345e62d5115c8d03dc5f4b1ec8332ffc/tiles/{z}/{x}/{y}",
            "visible": true,
            "zoom_offset": 0
          }
        },
        "a8d922d8ca754f59adbb0e71a38fc71e": {
          "model_module": "@jupyter-widgets/controls",
          "model_module_version": "1.5.0",
          "model_name": "VBoxModel",
          "state": {
            "_dom_classes": [],
            "_model_module": "@jupyter-widgets/controls",
            "_model_module_version": "1.5.0",
            "_model_name": "VBoxModel",
            "_view_count": null,
            "_view_module": "@jupyter-widgets/controls",
            "_view_module_version": "1.5.0",
            "_view_name": "VBoxView",
            "box_style": "",
            "children": [
              "IPY_MODEL_664486af2d8d43cab4951e54c212abc6",
              "IPY_MODEL_6fbbc14c1a1c4034bc4be6124e5455b4"
            ],
            "layout": "IPY_MODEL_f3f51447b30e404e8992b14a97b3e83b"
          }
        },
        "a97e7abd11064038b9f50edb49270bb5": {
          "model_module": "@jupyter-widgets/base",
          "model_module_version": "1.2.0",
          "model_name": "LayoutModel",
          "state": {
            "_model_module": "@jupyter-widgets/base",
            "_model_module_version": "1.2.0",
            "_model_name": "LayoutModel",
            "_view_count": null,
            "_view_module": "@jupyter-widgets/base",
            "_view_module_version": "1.2.0",
            "_view_name": "LayoutView",
            "align_content": null,
            "align_items": null,
            "align_self": null,
            "border": null,
            "bottom": null,
            "display": null,
            "flex": null,
            "flex_flow": null,
            "grid_area": null,
            "grid_auto_columns": null,
            "grid_auto_flow": null,
            "grid_auto_rows": null,
            "grid_column": null,
            "grid_gap": null,
            "grid_row": null,
            "grid_template_areas": null,
            "grid_template_columns": null,
            "grid_template_rows": null,
            "height": "28px",
            "justify_content": null,
            "justify_items": null,
            "left": null,
            "margin": null,
            "max_height": null,
            "max_width": null,
            "min_height": null,
            "min_width": null,
            "object_fit": null,
            "object_position": null,
            "order": null,
            "overflow": null,
            "overflow_x": null,
            "overflow_y": null,
            "padding": "0px 0px 0px 4px",
            "right": null,
            "top": null,
            "visibility": null,
            "width": "28px"
          }
        },
        "aabff9cd205d45bda8559b988a753d89": {
          "model_module": "@jupyter-widgets/base",
          "model_module_version": "1.2.0",
          "model_name": "LayoutModel",
          "state": {
            "_model_module": "@jupyter-widgets/base",
            "_model_module_version": "1.2.0",
            "_model_name": "LayoutModel",
            "_view_count": null,
            "_view_module": "@jupyter-widgets/base",
            "_view_module_version": "1.2.0",
            "_view_name": "LayoutView",
            "align_content": null,
            "align_items": null,
            "align_self": null,
            "border": null,
            "bottom": null,
            "display": null,
            "flex": null,
            "flex_flow": null,
            "grid_area": null,
            "grid_auto_columns": null,
            "grid_auto_flow": null,
            "grid_auto_rows": null,
            "grid_column": null,
            "grid_gap": null,
            "grid_row": null,
            "grid_template_areas": null,
            "grid_template_columns": null,
            "grid_template_rows": null,
            "height": null,
            "justify_content": null,
            "justify_items": null,
            "left": null,
            "margin": null,
            "max_height": null,
            "max_width": null,
            "min_height": null,
            "min_width": null,
            "object_fit": null,
            "object_position": null,
            "order": null,
            "overflow": null,
            "overflow_x": null,
            "overflow_y": null,
            "padding": null,
            "right": null,
            "top": null,
            "visibility": null,
            "width": null
          }
        },
        "aadcdee0d20b4ecc8cb112ec6a8b9797": {
          "model_module": "@jupyter-widgets/base",
          "model_module_version": "1.2.0",
          "model_name": "LayoutModel",
          "state": {
            "_model_module": "@jupyter-widgets/base",
            "_model_module_version": "1.2.0",
            "_model_name": "LayoutModel",
            "_view_count": null,
            "_view_module": "@jupyter-widgets/base",
            "_view_module_version": "1.2.0",
            "_view_name": "LayoutView",
            "align_content": null,
            "align_items": null,
            "align_self": null,
            "border": null,
            "bottom": null,
            "display": null,
            "flex": null,
            "flex_flow": null,
            "grid_area": null,
            "grid_auto_columns": null,
            "grid_auto_flow": null,
            "grid_auto_rows": null,
            "grid_column": null,
            "grid_gap": null,
            "grid_row": null,
            "grid_template_areas": null,
            "grid_template_columns": null,
            "grid_template_rows": null,
            "height": null,
            "justify_content": null,
            "justify_items": null,
            "left": null,
            "margin": null,
            "max_height": null,
            "max_width": null,
            "min_height": null,
            "min_width": null,
            "object_fit": null,
            "object_position": null,
            "order": null,
            "overflow": null,
            "overflow_x": null,
            "overflow_y": null,
            "padding": null,
            "right": null,
            "top": null,
            "visibility": null,
            "width": null
          }
        },
        "ace7bf8d017e4a409f1031e22de453e5": {
          "model_module": "jupyter-leaflet",
          "model_module_version": "^0.18",
          "model_name": "LeafletTileLayerModel",
          "state": {
            "_model_module": "jupyter-leaflet",
            "_model_module_version": "^0.18",
            "_model_name": "LeafletTileLayerModel",
            "_view_count": null,
            "_view_module": "jupyter-leaflet",
            "_view_module_version": "^0.18",
            "_view_name": "LeafletTileLayerView",
            "attribution": "&copy; <a href=\"https://www.openstreetmap.org/copyright\">OpenStreetMap</a> contributors",
            "base": true,
            "bottom": true,
            "bounds": null,
            "detect_retina": false,
            "loading": false,
            "max_native_zoom": null,
            "max_zoom": 19,
            "min_native_zoom": null,
            "min_zoom": 1,
            "name": "OpenStreetMap.Mapnik",
            "no_wrap": false,
            "opacity": 1,
            "options": [
              "attribution",
              "bounds",
              "detect_retina",
              "max_native_zoom",
              "max_zoom",
              "min_native_zoom",
              "min_zoom",
              "no_wrap",
              "tile_size",
              "tms",
              "zoom_offset"
            ],
            "pane": "",
            "popup": null,
            "popup_max_height": null,
            "popup_max_width": 300,
            "popup_min_width": 50,
            "show_loading": false,
            "subitems": [],
            "tile_size": 256,
            "tms": false,
            "url": "https://tile.openstreetmap.org/{z}/{x}/{y}.png",
            "visible": true,
            "zoom_offset": 0
          }
        },
        "ae84b722c0644c14bdbda295dd292be7": {
          "model_module": "@jupyter-widgets/base",
          "model_module_version": "1.2.0",
          "model_name": "LayoutModel",
          "state": {
            "_model_module": "@jupyter-widgets/base",
            "_model_module_version": "1.2.0",
            "_model_name": "LayoutModel",
            "_view_count": null,
            "_view_module": "@jupyter-widgets/base",
            "_view_module_version": "1.2.0",
            "_view_name": "LayoutView",
            "align_content": null,
            "align_items": null,
            "align_self": null,
            "border": null,
            "bottom": null,
            "display": null,
            "flex": null,
            "flex_flow": null,
            "grid_area": null,
            "grid_auto_columns": null,
            "grid_auto_flow": null,
            "grid_auto_rows": null,
            "grid_column": null,
            "grid_gap": null,
            "grid_row": null,
            "grid_template_areas": null,
            "grid_template_columns": null,
            "grid_template_rows": null,
            "height": null,
            "justify_content": null,
            "justify_items": null,
            "left": null,
            "margin": null,
            "max_height": null,
            "max_width": null,
            "min_height": null,
            "min_width": null,
            "object_fit": null,
            "object_position": null,
            "order": null,
            "overflow": null,
            "overflow_x": null,
            "overflow_y": null,
            "padding": null,
            "right": null,
            "top": null,
            "visibility": null,
            "width": null
          }
        },
        "b2ec71d5c5ec495db0ddd25054e11d45": {
          "model_module": "jupyter-leaflet",
          "model_module_version": "^0.18",
          "model_name": "LeafletTileLayerModel",
          "state": {
            "_model_module": "jupyter-leaflet",
            "_model_module_version": "^0.18",
            "_model_name": "LeafletTileLayerModel",
            "_view_count": null,
            "_view_module": "jupyter-leaflet",
            "_view_module_version": "^0.18",
            "_view_name": "LeafletTileLayerView",
            "attribution": "Google Earth Engine",
            "base": false,
            "bottom": true,
            "bounds": null,
            "detect_retina": false,
            "loading": false,
            "max_native_zoom": null,
            "max_zoom": 24,
            "min_native_zoom": null,
            "min_zoom": 0,
            "name": "Landsat-8",
            "no_wrap": false,
            "opacity": 1,
            "options": [
              "attribution",
              "bounds",
              "detect_retina",
              "max_native_zoom",
              "max_zoom",
              "min_native_zoom",
              "min_zoom",
              "no_wrap",
              "tile_size",
              "tms",
              "zoom_offset"
            ],
            "pane": "",
            "popup": null,
            "popup_max_height": null,
            "popup_max_width": 300,
            "popup_min_width": 50,
            "show_loading": false,
            "subitems": [],
            "tile_size": 256,
            "tms": false,
            "url": "https://earthengine.googleapis.com/v1/projects/earthengine-legacy/maps/b84d76203b0ef8559227499b6a4230c8-0f8ee0c6b3189288bd4f6780b848e8f1/tiles/{z}/{x}/{y}",
            "visible": true,
            "zoom_offset": 0
          }
        },
        "bddee60255cc429abae44c6c718db7b2": {
          "model_module": "@jupyter-widgets/base",
          "model_module_version": "1.2.0",
          "model_name": "LayoutModel",
          "state": {
            "_model_module": "@jupyter-widgets/base",
            "_model_module_version": "1.2.0",
            "_model_name": "LayoutModel",
            "_view_count": null,
            "_view_module": "@jupyter-widgets/base",
            "_view_module_version": "1.2.0",
            "_view_name": "LayoutView",
            "align_content": null,
            "align_items": null,
            "align_self": null,
            "border": null,
            "bottom": null,
            "display": null,
            "flex": null,
            "flex_flow": null,
            "grid_area": null,
            "grid_auto_columns": null,
            "grid_auto_flow": null,
            "grid_auto_rows": null,
            "grid_column": null,
            "grid_gap": null,
            "grid_row": null,
            "grid_template_areas": null,
            "grid_template_columns": null,
            "grid_template_rows": null,
            "height": null,
            "justify_content": null,
            "justify_items": null,
            "left": null,
            "margin": null,
            "max_height": null,
            "max_width": null,
            "min_height": null,
            "min_width": null,
            "object_fit": null,
            "object_position": null,
            "order": null,
            "overflow": null,
            "overflow_x": null,
            "overflow_y": null,
            "padding": null,
            "right": null,
            "top": null,
            "visibility": null,
            "width": null
          }
        },
        "bf3662be0e8841ee8915e36600883af1": {
          "model_module": "@jupyter-widgets/base",
          "model_module_version": "1.2.0",
          "model_name": "LayoutModel",
          "state": {
            "_model_module": "@jupyter-widgets/base",
            "_model_module_version": "1.2.0",
            "_model_name": "LayoutModel",
            "_view_count": null,
            "_view_module": "@jupyter-widgets/base",
            "_view_module_version": "1.2.0",
            "_view_name": "LayoutView",
            "align_content": null,
            "align_items": null,
            "align_self": null,
            "border": null,
            "bottom": null,
            "display": null,
            "flex": null,
            "flex_flow": null,
            "grid_area": null,
            "grid_auto_columns": null,
            "grid_auto_flow": null,
            "grid_auto_rows": null,
            "grid_column": null,
            "grid_gap": null,
            "grid_row": null,
            "grid_template_areas": null,
            "grid_template_columns": null,
            "grid_template_rows": null,
            "height": null,
            "justify_content": null,
            "justify_items": null,
            "left": null,
            "margin": null,
            "max_height": null,
            "max_width": null,
            "min_height": null,
            "min_width": null,
            "object_fit": null,
            "object_position": null,
            "order": null,
            "overflow": null,
            "overflow_x": null,
            "overflow_y": null,
            "padding": null,
            "right": null,
            "top": null,
            "visibility": null,
            "width": null
          }
        },
        "c48d45fa576244e2abf0829d7387e5e2": {
          "model_module": "@jupyter-widgets/controls",
          "model_module_version": "1.5.0",
          "model_name": "HTMLModel",
          "state": {
            "_dom_classes": [],
            "_model_module": "@jupyter-widgets/controls",
            "_model_module_version": "1.5.0",
            "_model_name": "HTMLModel",
            "_view_count": null,
            "_view_module": "@jupyter-widgets/controls",
            "_view_module_version": "1.5.0",
            "_view_name": "HTMLView",
            "description": "",
            "description_tooltip": null,
            "layout": "IPY_MODEL_65691f3a3a13426b82f2c0063daf711f",
            "placeholder": "​",
            "style": "IPY_MODEL_762d4547c62a49088c47746a5562f7d5",
            "value": "<html>\n<body>\n  <div class='my-legend'>\n  <div class='legend-title'>Legend</div>\n  <div class='legend-scale'>\n    <ul class='legend-labels'>\n<li><span style='background:#466b9f;'></span>11 Open Water</li>\n<li><span style='background:#d1def8;'></span>12 Perennial Ice/Snow</li>\n<li><span style='background:#dec5c5;'></span>21 Developed, Open Space</li>\n<li><span style='background:#d99282;'></span>22 Developed, Low Intensity</li>\n<li><span style='background:#eb0000;'></span>23 Developed, Medium Intensity</li>\n<li><span style='background:#ab0000;'></span>24 Developed, High Intensity</li>\n<li><span style='background:#b3ac9f;'></span>31 Barren Land (Rock/Sand/Clay)</li>\n<li><span style='background:#68ab5f;'></span>41 Deciduous Forest</li>\n<li><span style='background:#1c5f2c;'></span>42 Evergreen Forest</li>\n<li><span style='background:#b5c58f;'></span>43 Mixed Forest</li>\n<li><span style='background:#af963c;'></span>51 Dwarf Scrub</li>\n<li><span style='background:#ccb879;'></span>52 Shrub/Scrub</li>\n<li><span style='background:#dfdfc2;'></span>71 Grassland/Herbaceous</li>\n<li><span style='background:#d1d182;'></span>72 Sedge/Herbaceous</li>\n<li><span style='background:#a3cc51;'></span>73 Lichens</li>\n<li><span style='background:#82ba9e;'></span>74 Moss</li>\n<li><span style='background:#dcd939;'></span>81 Pasture/Hay</li>\n<li><span style='background:#ab6c28;'></span>82 Cultivated Crops</li>\n<li><span style='background:#b8d9eb;'></span>90 Woody Wetlands</li>\n<li><span style='background:#6c9fb8;'></span>95 Emergent Herbaceous Wetlands</li>\n    </ul>\n  </div>\n  </div>\n\n  <style type='text/css'>\n    .my-legend .legend-title {\n      text-align: left;\n      margin-bottom: 2px;\n      margin-left: 2px;\n      font-weight: bold;\n      font-size: 90%;\n      }\n    .my-legend .legend-scale ul {\n      margin: 0;\n      margin-bottom: 5px;\n      padding: 0;\n      float: left;\n      list-style: none;\n      }\n    .my-legend .legend-scale ul li {\n      font-size: 80%;\n      list-style: none;\n      margin-left: 1px;\n      line-height: 18px;\n      margin-bottom: 2px;\n      }\n    .my-legend ul.legend-labels li span {\n      display: block;\n      float: left;\n      height: 16px;\n      width: 30px;\n      margin-right: 5px;\n      margin-left: 2px;\n      border: 1px solid #999;\n      }\n    .my-legend .legend-source {\n      font-size: 70%;\n      color: #999;\n      clear: both;\n      }\n    .my-legend a {\n      color: #777;\n      }\n  </style>\n</body>\n</html>\n"
          }
        },
        "c85eb64d15c3415187b4ca1ed11a1c66": {
          "model_module": "jupyter-leaflet",
          "model_module_version": "^0.18",
          "model_name": "LeafletTileLayerModel",
          "state": {
            "_model_module": "jupyter-leaflet",
            "_model_module_version": "^0.18",
            "_model_name": "LeafletTileLayerModel",
            "_view_count": null,
            "_view_module": "jupyter-leaflet",
            "_view_module_version": "^0.18",
            "_view_name": "LeafletTileLayerView",
            "attribution": "Google Earth Engine",
            "base": false,
            "bottom": true,
            "bounds": null,
            "detect_retina": false,
            "loading": false,
            "max_native_zoom": null,
            "max_zoom": 24,
            "min_native_zoom": null,
            "min_zoom": 0,
            "name": "NLCD",
            "no_wrap": false,
            "opacity": 1,
            "options": [
              "attribution",
              "bounds",
              "detect_retina",
              "max_native_zoom",
              "max_zoom",
              "min_native_zoom",
              "min_zoom",
              "no_wrap",
              "tile_size",
              "tms",
              "zoom_offset"
            ],
            "pane": "",
            "popup": null,
            "popup_max_height": null,
            "popup_max_width": 300,
            "popup_min_width": 50,
            "show_loading": false,
            "subitems": [],
            "tile_size": 256,
            "tms": false,
            "url": "https://earthengine.googleapis.com/v1/projects/earthengine-legacy/maps/4c5b255d55920e440546b403c84e76f3-89a0172f7b8d9a33edd99b4771f6b466/tiles/{z}/{x}/{y}",
            "visible": true,
            "zoom_offset": 0
          }
        },
        "c8c49bd9040949cd9e03838338cd6077": {
          "model_module": "@jupyter-widgets/controls",
          "model_module_version": "1.5.0",
          "model_name": "VBoxModel",
          "state": {
            "_dom_classes": [
              "geemap-colab"
            ],
            "_model_module": "@jupyter-widgets/controls",
            "_model_module_version": "1.5.0",
            "_model_name": "VBoxModel",
            "_view_count": null,
            "_view_module": "@jupyter-widgets/controls",
            "_view_module_version": "1.5.0",
            "_view_name": "VBoxView",
            "box_style": "",
            "children": [
              "IPY_MODEL_a8d922d8ca754f59adbb0e71a38fc71e"
            ],
            "layout": "IPY_MODEL_6a59f92a58b1466896f3d7921f014064"
          }
        },
        "ca3d3cc83c0c4d8ebd4b5ef2fec2159f": {
          "model_module": "jupyter-leaflet",
          "model_module_version": "^0.18",
          "model_name": "LeafletWidgetControlModel",
          "state": {
            "_model_module": "jupyter-leaflet",
            "_model_module_version": "^0.18",
            "_model_name": "LeafletWidgetControlModel",
            "_view_count": null,
            "_view_module": "jupyter-leaflet",
            "_view_module_version": "^0.18",
            "_view_name": "LeafletWidgetControlView",
            "max_height": null,
            "max_width": null,
            "min_height": null,
            "min_width": null,
            "options": [
              "position",
              "transparent_bg"
            ],
            "position": "bottomright",
            "transparent_bg": false,
            "widget": "IPY_MODEL_0b2227847f6e4d3ca3ee881a4e88cbb4"
          }
        },
        "cf0cb502b3ae4870aafe0a89752806b9": {
          "model_module": "jupyter-leaflet",
          "model_module_version": "^0.18",
          "model_name": "LeafletFullScreenControlModel",
          "state": {
            "_model_module": "jupyter-leaflet",
            "_model_module_version": "^0.18",
            "_model_name": "LeafletFullScreenControlModel",
            "_view_count": null,
            "_view_module": "jupyter-leaflet",
            "_view_module_version": "^0.18",
            "_view_name": "LeafletFullScreenControlView",
            "options": [
              "position"
            ],
            "position": "topleft"
          }
        },
        "d18d0356287d4a08b2e775240ead8e34": {
          "model_module": "jupyter-leaflet",
          "model_module_version": "^0.18",
          "model_name": "LeafletMapStyleModel",
          "state": {
            "_model_module": "jupyter-leaflet",
            "_model_module_version": "^0.18",
            "_model_name": "LeafletMapStyleModel",
            "_view_count": null,
            "_view_module": "@jupyter-widgets/base",
            "_view_module_version": "1.2.0",
            "_view_name": "StyleView",
            "cursor": "move"
          }
        },
        "d3e382587dcc44d08c8eeb288e866573": {
          "model_module": "jupyter-leaflet",
          "model_module_version": "^0.18",
          "model_name": "LeafletMapStyleModel",
          "state": {
            "_model_module": "jupyter-leaflet",
            "_model_module_version": "^0.18",
            "_model_name": "LeafletMapStyleModel",
            "_view_count": null,
            "_view_module": "@jupyter-widgets/base",
            "_view_module_version": "1.2.0",
            "_view_name": "StyleView",
            "cursor": "grab"
          }
        },
        "d9b91b2d9314444882ebf480806b5eaa": {
          "model_module": "@jupyter-widgets/output",
          "model_module_version": "1.0.0",
          "model_name": "OutputModel",
          "state": {
            "_dom_classes": [],
            "_model_module": "@jupyter-widgets/output",
            "_model_module_version": "1.0.0",
            "_model_name": "OutputModel",
            "_view_count": null,
            "_view_module": "@jupyter-widgets/output",
            "_view_module_version": "1.0.0",
            "_view_name": "OutputView",
            "layout": "IPY_MODEL_7b1a96c928b34ce6a8e0febcdda8faa6",
            "msg_id": "",
            "outputs": [
              {
                "data": {
                  "application/vnd.jupyter.widget-view+json": {
                    "model_id": "db41b7fab07242f08d6a772d6baf4269",
                    "version_major": 2,
                    "version_minor": 0
                  },
                  "text/plain": "HTML(value=\"<html>\\n<body>\\n  <div class='my-legend'>\\n  <div class='legend-title'>Legend</div>\\n  <div class=…"
                },
                "metadata": {
                  "application/vnd.jupyter.widget-view+json": {
                    "colab": {
                      "custom_widget_manager": {
                        "url": "https://ssl.gstatic.com/colaboratory-static/widgets/colab-cdn-widget-manager/b3e629b1971e1542/manager.min.js"
                      }
                    }
                  }
                },
                "output_type": "display_data"
              }
            ]
          }
        },
        "db41b7fab07242f08d6a772d6baf4269": {
          "model_module": "@jupyter-widgets/controls",
          "model_module_version": "1.5.0",
          "model_name": "HTMLModel",
          "state": {
            "_dom_classes": [],
            "_model_module": "@jupyter-widgets/controls",
            "_model_module_version": "1.5.0",
            "_model_name": "HTMLModel",
            "_view_count": null,
            "_view_module": "@jupyter-widgets/controls",
            "_view_module_version": "1.5.0",
            "_view_name": "HTMLView",
            "description": "",
            "description_tooltip": null,
            "layout": "IPY_MODEL_f5fce44f515f4efcb649573d153ca421",
            "placeholder": "​",
            "style": "IPY_MODEL_67915519614b4fa6845c94a92cae4289",
            "value": "<html>\n<body>\n  <div class='my-legend'>\n  <div class='legend-title'>Legend</div>\n  <div class='legend-scale'>\n    <ul class='legend-labels'>\n<li><span style='background:#466b9f;'></span>11 Open Water</li>\n<li><span style='background:#d1def8;'></span>12 Perennial Ice/Snow</li>\n<li><span style='background:#dec5c5;'></span>21 Developed, Open Space</li>\n<li><span style='background:#d99282;'></span>22 Developed, Low Intensity</li>\n<li><span style='background:#eb0000;'></span>23 Developed, Medium Intensity</li>\n<li><span style='background:#ab0000;'></span>24 Developed, High Intensity</li>\n<li><span style='background:#b3ac9f;'></span>31 Barren Land (Rock/Sand/Clay)</li>\n<li><span style='background:#68ab5f;'></span>41 Deciduous Forest</li>\n<li><span style='background:#1c5f2c;'></span>42 Evergreen Forest</li>\n<li><span style='background:#b5c58f;'></span>43 Mixed Forest</li>\n<li><span style='background:#af963c;'></span>51 Dwarf Scrub</li>\n<li><span style='background:#ccb879;'></span>52 Shrub/Scrub</li>\n<li><span style='background:#dfdfc2;'></span>71 Grassland/Herbaceous</li>\n<li><span style='background:#d1d182;'></span>72 Sedge/Herbaceous</li>\n<li><span style='background:#a3cc51;'></span>73 Lichens</li>\n<li><span style='background:#82ba9e;'></span>74 Moss</li>\n<li><span style='background:#dcd939;'></span>81 Pasture/Hay</li>\n<li><span style='background:#ab6c28;'></span>82 Cultivated Crops</li>\n<li><span style='background:#b8d9eb;'></span>90 Woody Wetlands</li>\n<li><span style='background:#6c9fb8;'></span>95 Emergent Herbaceous Wetlands</li>\n    </ul>\n  </div>\n  </div>\n\n  <style type='text/css'>\n    .my-legend .legend-title {\n      text-align: left;\n      margin-bottom: 2px;\n      margin-left: 2px;\n      font-weight: bold;\n      font-size: 90%;\n      }\n    .my-legend .legend-scale ul {\n      margin: 0;\n      margin-bottom: 5px;\n      padding: 0;\n      float: left;\n      list-style: none;\n      }\n    .my-legend .legend-scale ul li {\n      font-size: 80%;\n      list-style: none;\n      margin-left: 1px;\n      line-height: 18px;\n      margin-bottom: 2px;\n      }\n    .my-legend ul.legend-labels li span {\n      display: block;\n      float: left;\n      height: 16px;\n      width: 30px;\n      margin-right: 5px;\n      margin-left: 2px;\n      border: 1px solid #999;\n      }\n    .my-legend .legend-source {\n      font-size: 70%;\n      color: #999;\n      clear: both;\n      }\n    .my-legend a {\n      color: #777;\n      }\n  </style>\n</body>\n</html>\n"
          }
        },
        "dd4c63815d7c4625be7613396417e606": {
          "model_module": "@jupyter-widgets/controls",
          "model_module_version": "1.5.0",
          "model_name": "VBoxModel",
          "state": {
            "_dom_classes": [],
            "_model_module": "@jupyter-widgets/controls",
            "_model_module_version": "1.5.0",
            "_model_name": "VBoxModel",
            "_view_count": null,
            "_view_module": "@jupyter-widgets/controls",
            "_view_module_version": "1.5.0",
            "_view_name": "VBoxView",
            "box_style": "",
            "children": [
              "IPY_MODEL_0754b67c21334a59b6eaccfc65a9d365",
              "IPY_MODEL_f0809c84c66447f886ae2c8f21656a1e"
            ],
            "layout": "IPY_MODEL_975b4c527f414ceda00eb6e89682ed30"
          }
        },
        "dd7e6fa11db545b7840ac2a9bbfd62ec": {
          "model_module": "@jupyter-widgets/controls",
          "model_module_version": "1.5.0",
          "model_name": "VBoxModel",
          "state": {
            "_dom_classes": [],
            "_model_module": "@jupyter-widgets/controls",
            "_model_module_version": "1.5.0",
            "_model_name": "VBoxModel",
            "_view_count": null,
            "_view_module": "@jupyter-widgets/controls",
            "_view_module_version": "1.5.0",
            "_view_name": "VBoxView",
            "box_style": "",
            "children": [
              "IPY_MODEL_012edf686b4848f49b9560b483851fdb",
              "IPY_MODEL_87e94e62225b4aeb8fb90408f626c04d"
            ],
            "layout": "IPY_MODEL_1141e00244174065a5eaa4d27ec46a1a"
          }
        },
        "e91e901590cc4891b138cdb74eb8cec3": {
          "model_module": "jupyter-leaflet",
          "model_module_version": "^0.18",
          "model_name": "LeafletAttributionControlModel",
          "state": {
            "_model_module": "jupyter-leaflet",
            "_model_module_version": "^0.18",
            "_model_name": "LeafletAttributionControlModel",
            "_view_count": null,
            "_view_module": "jupyter-leaflet",
            "_view_module_version": "^0.18",
            "_view_name": "LeafletAttributionControlView",
            "options": [
              "position",
              "prefix"
            ],
            "position": "bottomright",
            "prefix": "ipyleaflet"
          }
        },
        "eda55eeff3ab4cb3ae304303af04f288": {
          "model_module": "@jupyter-widgets/controls",
          "model_module_version": "1.5.0",
          "model_name": "HTMLModel",
          "state": {
            "_dom_classes": [],
            "_model_module": "@jupyter-widgets/controls",
            "_model_module_version": "1.5.0",
            "_model_name": "HTMLModel",
            "_view_count": null,
            "_view_module": "@jupyter-widgets/controls",
            "_view_module_version": "1.5.0",
            "_view_name": "HTMLView",
            "description": "",
            "description_tooltip": null,
            "layout": "IPY_MODEL_ffd88076493a43749f8d542cb9d7e3ea",
            "placeholder": "​",
            "style": "IPY_MODEL_245e6ed398c04159ac1120183044687a",
            "value": "<html>\n<body>\n  <div class='my-legend'>\n  <div class='legend-title'>Legend</div>\n  <div class='legend-scale'>\n    <ul class='legend-labels'>\n<li><span style='background:#8DD3C7;'></span>One</li>\n<li><span style='background:#FFFFB3;'></span>Two</li>\n<li><span style='background:#8B4513;'></span>Three</li>\n<li><span style='background:#80B1D3;'></span>Four</li>\n<li><span style='background:#4CAF50;'></span>Five</li>\n<li><span style='background:#FDB462;'></span>Six</li>\n<li><span style='background:#FB8072;'></span>Seven</li>\n<li><span style='background:#5E77D7;'></span>Eight</li>\n<li><span style='background:#FFD700;'></span>Nine</li>\n<li><span style='background:#D2B48C;'></span>Ten</li>\n<li><span style='background:#00CED1;'></span>Eleven</li>\n<li><span style='background:#FF6347;'></span>Twelve</li>\n<li><span style='background:#7B68EE;'></span>Thirteen</li>\n<li><span style='background:#001F3F;'></span>Fourteen</li>\n    </ul>\n  </div>\n  </div>\n\n  <style type='text/css'>\n    .my-legend .legend-title {\n      text-align: left;\n      margin-bottom: 2px;\n      margin-left: 2px;\n      font-weight: bold;\n      font-size: 90%;\n      }\n    .my-legend .legend-scale ul {\n      margin: 0;\n      margin-bottom: 5px;\n      padding: 0;\n      float: left;\n      list-style: none;\n      }\n    .my-legend .legend-scale ul li {\n      font-size: 80%;\n      list-style: none;\n      margin-left: 1px;\n      line-height: 18px;\n      margin-bottom: 2px;\n      }\n    .my-legend ul.legend-labels li span {\n      display: block;\n      float: left;\n      height: 16px;\n      width: 30px;\n      margin-right: 5px;\n      margin-left: 2px;\n      border: 1px solid #999;\n      }\n    .my-legend .legend-source {\n      font-size: 70%;\n      color: #999;\n      clear: both;\n      }\n    .my-legend a {\n      color: #777;\n      }\n  </style>\n</body>\n</html>\n"
          }
        },
        "f0809c84c66447f886ae2c8f21656a1e": {
          "model_module": "@jupyter-widgets/controls",
          "model_module_version": "1.5.0",
          "model_name": "VBoxModel",
          "state": {
            "_dom_classes": [],
            "_model_module": "@jupyter-widgets/controls",
            "_model_module_version": "1.5.0",
            "_model_name": "VBoxModel",
            "_view_count": null,
            "_view_module": "@jupyter-widgets/controls",
            "_view_module_version": "1.5.0",
            "_view_name": "VBoxView",
            "box_style": "",
            "children": [
              "IPY_MODEL_a656517483d7491ca122105dfd117da2"
            ],
            "layout": "IPY_MODEL_f1b8d7de031a47d1844b1a22c5c23d9c"
          }
        },
        "f1b8d7de031a47d1844b1a22c5c23d9c": {
          "model_module": "@jupyter-widgets/base",
          "model_module_version": "1.2.0",
          "model_name": "LayoutModel",
          "state": {
            "_model_module": "@jupyter-widgets/base",
            "_model_module_version": "1.2.0",
            "_model_name": "LayoutModel",
            "_view_count": null,
            "_view_module": "@jupyter-widgets/base",
            "_view_module_version": "1.2.0",
            "_view_name": "LayoutView",
            "align_content": null,
            "align_items": null,
            "align_self": null,
            "border": null,
            "bottom": null,
            "display": null,
            "flex": null,
            "flex_flow": null,
            "grid_area": null,
            "grid_auto_columns": null,
            "grid_auto_flow": null,
            "grid_auto_rows": null,
            "grid_column": null,
            "grid_gap": null,
            "grid_row": null,
            "grid_template_areas": null,
            "grid_template_columns": null,
            "grid_template_rows": null,
            "height": null,
            "justify_content": null,
            "justify_items": null,
            "left": null,
            "margin": null,
            "max_height": null,
            "max_width": null,
            "min_height": null,
            "min_width": null,
            "object_fit": null,
            "object_position": null,
            "order": null,
            "overflow": null,
            "overflow_x": null,
            "overflow_y": null,
            "padding": null,
            "right": null,
            "top": null,
            "visibility": null,
            "width": null
          }
        },
        "f3f51447b30e404e8992b14a97b3e83b": {
          "model_module": "@jupyter-widgets/base",
          "model_module_version": "1.2.0",
          "model_name": "LayoutModel",
          "state": {
            "_model_module": "@jupyter-widgets/base",
            "_model_module_version": "1.2.0",
            "_model_name": "LayoutModel",
            "_view_count": null,
            "_view_module": "@jupyter-widgets/base",
            "_view_module_version": "1.2.0",
            "_view_name": "LayoutView",
            "align_content": null,
            "align_items": null,
            "align_self": null,
            "border": null,
            "bottom": null,
            "display": null,
            "flex": null,
            "flex_flow": null,
            "grid_area": null,
            "grid_auto_columns": null,
            "grid_auto_flow": null,
            "grid_auto_rows": null,
            "grid_column": null,
            "grid_gap": null,
            "grid_row": null,
            "grid_template_areas": null,
            "grid_template_columns": null,
            "grid_template_rows": null,
            "height": null,
            "justify_content": null,
            "justify_items": null,
            "left": null,
            "margin": null,
            "max_height": null,
            "max_width": null,
            "min_height": null,
            "min_width": null,
            "object_fit": null,
            "object_position": null,
            "order": null,
            "overflow": null,
            "overflow_x": null,
            "overflow_y": null,
            "padding": null,
            "right": null,
            "top": null,
            "visibility": null,
            "width": null
          }
        },
        "f5fce44f515f4efcb649573d153ca421": {
          "model_module": "@jupyter-widgets/base",
          "model_module_version": "1.2.0",
          "model_name": "LayoutModel",
          "state": {
            "_model_module": "@jupyter-widgets/base",
            "_model_module_version": "1.2.0",
            "_model_name": "LayoutModel",
            "_view_count": null,
            "_view_module": "@jupyter-widgets/base",
            "_view_module_version": "1.2.0",
            "_view_name": "LayoutView",
            "align_content": null,
            "align_items": null,
            "align_self": null,
            "border": null,
            "bottom": null,
            "display": null,
            "flex": null,
            "flex_flow": null,
            "grid_area": null,
            "grid_auto_columns": null,
            "grid_auto_flow": null,
            "grid_auto_rows": null,
            "grid_column": null,
            "grid_gap": null,
            "grid_row": null,
            "grid_template_areas": null,
            "grid_template_columns": null,
            "grid_template_rows": null,
            "height": null,
            "justify_content": null,
            "justify_items": null,
            "left": null,
            "margin": null,
            "max_height": null,
            "max_width": null,
            "min_height": null,
            "min_width": null,
            "object_fit": null,
            "object_position": null,
            "order": null,
            "overflow": null,
            "overflow_x": null,
            "overflow_y": null,
            "padding": null,
            "right": null,
            "top": null,
            "visibility": null,
            "width": null
          }
        },
        "ffb11e5b25af4695a463bcae28eafd3a": {
          "model_module": "jupyter-leaflet",
          "model_module_version": "^0.18",
          "model_name": "LeafletMeasureControlModel",
          "state": {
            "_custom_units": {},
            "_model_module": "jupyter-leaflet",
            "_model_module_version": "^0.18",
            "_model_name": "LeafletMeasureControlModel",
            "_view_count": null,
            "_view_module": "jupyter-leaflet",
            "_view_module_version": "^0.18",
            "_view_name": "LeafletMeasureControlView",
            "active_color": "orange",
            "capture_z_index": 10000,
            "completed_color": "#C8F2BE",
            "options": [
              "active_color",
              "capture_z_index",
              "completed_color",
              "popup_options",
              "position",
              "primary_area_unit",
              "primary_length_unit",
              "secondary_area_unit",
              "secondary_length_unit"
            ],
            "popup_options": {
              "autoPanPadding": [
                10,
                10
              ],
              "className": "leaflet-measure-resultpopup"
            },
            "position": "bottomleft",
            "primary_area_unit": "acres",
            "primary_length_unit": "kilometers",
            "secondary_area_unit": null,
            "secondary_length_unit": null
          }
        },
        "ffd88076493a43749f8d542cb9d7e3ea": {
          "model_module": "@jupyter-widgets/base",
          "model_module_version": "1.2.0",
          "model_name": "LayoutModel",
          "state": {
            "_model_module": "@jupyter-widgets/base",
            "_model_module_version": "1.2.0",
            "_model_name": "LayoutModel",
            "_view_count": null,
            "_view_module": "@jupyter-widgets/base",
            "_view_module_version": "1.2.0",
            "_view_name": "LayoutView",
            "align_content": null,
            "align_items": null,
            "align_self": null,
            "border": null,
            "bottom": null,
            "display": null,
            "flex": null,
            "flex_flow": null,
            "grid_area": null,
            "grid_auto_columns": null,
            "grid_auto_flow": null,
            "grid_auto_rows": null,
            "grid_column": null,
            "grid_gap": null,
            "grid_row": null,
            "grid_template_areas": null,
            "grid_template_columns": null,
            "grid_template_rows": null,
            "height": null,
            "justify_content": null,
            "justify_items": null,
            "left": null,
            "margin": null,
            "max_height": null,
            "max_width": null,
            "min_height": null,
            "min_width": null,
            "object_fit": null,
            "object_position": null,
            "order": null,
            "overflow": null,
            "overflow_x": null,
            "overflow_y": null,
            "padding": null,
            "right": null,
            "top": null,
            "visibility": null,
            "width": null
          }
        }
      }
    }
  },
  "nbformat": 4,
  "nbformat_minor": 0
}
